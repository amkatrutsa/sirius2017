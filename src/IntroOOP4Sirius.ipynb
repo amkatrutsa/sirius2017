{
 "cells": [
  {
   "cell_type": "markdown",
   "metadata": {
    "slideshow": {
     "slide_type": "slide"
    }
   },
   "source": [
    "# Введение в введение в объектно-ориентированное программирование\n",
    "\n",
    "https://github.com/amkatrutsa/sirius2017/blob/public/src/IntroOOP4Sirius.ipynb"
   ]
  },
  {
   "cell_type": "markdown",
   "metadata": {
    "collapsed": true,
    "slideshow": {
     "slide_type": "slide"
    }
   },
   "source": [
    "## Что было до этого?\n",
    "\n",
    "- Числа, строки, контейнеры\n",
    "- Функции"
   ]
  },
  {
   "cell_type": "markdown",
   "metadata": {
    "collapsed": true,
    "slideshow": {
     "slide_type": "slide"
    }
   },
   "source": [
    "## Идея: объединить данные и функции для совместной работы с ними\n",
    "\n",
    "- Класс - новый тип данных \n",
    "- Включает в себя данные и функции для работы с ними\n",
    "- Функции в классах называются **методы**"
   ]
  },
  {
   "cell_type": "markdown",
   "metadata": {
    "collapsed": true,
    "slideshow": {
     "slide_type": "slide"
    }
   },
   "source": [
    "## Примеры\n",
    "\n",
    "- Строки\n",
    "- Контейнеры"
   ]
  },
  {
   "cell_type": "code",
   "execution_count": 1,
   "metadata": {
    "collapsed": false,
    "slideshow": {
     "slide_type": "slide"
    }
   },
   "outputs": [
    {
     "name": "stdout",
     "output_type": "stream",
     "text": [
      "Исходный список [1, 2, 3]\n",
      "Список после добавления элемента [1, 2, 3, 12]\n",
      "Список после удаления элемента [1, 2, 3]\n",
      "Обращение списка in-place [3, 2, 1]\n"
     ]
    }
   ],
   "source": [
    "l = [1,2,3]\n",
    "print \"Исходный список\", l\n",
    "l.append(12)\n",
    "print \"Список после добавления элемента\", l\n",
    "l.pop()\n",
    "print \"Список после удаления элемента\", l\n",
    "l.reverse()\n",
    "print \"Обращение списка in-place\", l"
   ]
  },
  {
   "cell_type": "code",
   "execution_count": 2,
   "metadata": {
    "collapsed": false,
    "slideshow": {
     "slide_type": "slide"
    }
   },
   "outputs": [
    {
     "name": "stdout",
     "output_type": "stream",
     "text": [
      "Исходная строка sirius2017\n",
      "Исходная строка с большой буквы Sirius2017\n",
      "sirius2017\n",
      "Список из строк разделённых буквой 'u' ['siri', 's2017']\n",
      "Конкатенация двух строк с символом _ siri_s2017\n",
      "Строка со всеми маленькми и буквами sirius2017\n"
     ]
    }
   ],
   "source": [
    "my_str = \"sirius2017\"\n",
    "print \"Исходная строка\", my_str\n",
    "cap_my_str = my_str.capitalize()\n",
    "print \"Исходная строка с большой буквы\", cap_my_str\n",
    "print my_str\n",
    "split_my_str = my_str.split(\"u\")\n",
    "print \"Список из строк разделённых буквой 'u'\", split_my_str\n",
    "s = \"_\"\n",
    "print \"Конкатенация двух строк с символом {} {}\".format(s, s.join(split_my_str))\n",
    "print \"Строка со всеми маленькми и буквами\", cap_my_str.lower()"
   ]
  },
  {
   "cell_type": "markdown",
   "metadata": {
    "slideshow": {
     "slide_type": "slide"
    }
   },
   "source": [
    "## Шаблон работы с ООП\n",
    "\n",
    "- Создание нескольких объектов классов\n",
    "- Вызов методов этих объектов"
   ]
  },
  {
   "cell_type": "markdown",
   "metadata": {
    "slideshow": {
     "slide_type": "slide"
    }
   },
   "source": [
    "### Как создать собственный класс?"
   ]
  },
  {
   "cell_type": "code",
   "execution_count": 3,
   "metadata": {
    "collapsed": true,
    "slideshow": {
     "slide_type": "slide"
    }
   },
   "outputs": [],
   "source": [
    "import math\n",
    "\n",
    "class Point:\n",
    "    def __init__(self, x, y):\n",
    "        print \"Создание экземпляра класса\"\n",
    "        self.__x = x\n",
    "        self.__y = y\n",
    "    def __str__(self):\n",
    "        return \"({}, {})\".format(self.__x, self.__y)\n",
    "    def shift(self, dx, dy):\n",
    "        self.__x += dx\n",
    "        self.__y += dy\n",
    "    def __add__(self, other):\n",
    "        return Point(self.__x + other.__x, self.__y + other.__y)\n",
    "    def distance_from_origin(self):\n",
    "        return math.sqrt(self.__x**2 + self.__y**2)"
   ]
  },
  {
   "cell_type": "code",
   "execution_count": 4,
   "metadata": {
    "collapsed": false,
    "slideshow": {
     "slide_type": "slide"
    }
   },
   "outputs": [
    {
     "name": "stdout",
     "output_type": "stream",
     "text": [
      "Создание экземпляра класса\n",
      "Создание экземпляра класса\n",
      "Point 1 (1, 1)\n",
      "Point 2 (2, 2)\n",
      "Point 1 after shifting (2, 2)\n",
      "Point 2 after shifting (1, 5)\n"
     ]
    }
   ],
   "source": [
    "p1 = Point(1,1)\n",
    "p2 = Point(2,2)\n",
    "\n",
    "print \"Point 1\", p1\n",
    "print \"Point 2\", p2\n",
    "\n",
    "p1.shift(1,1)\n",
    "print \"Point 1 after shifting\", p1\n",
    "p2.shift(-1, 3)\n",
    "print \"Point 2 after shifting\", p2"
   ]
  },
  {
   "cell_type": "code",
   "execution_count": 17,
   "metadata": {
    "collapsed": false,
    "slideshow": {
     "slide_type": "slide"
    }
   },
   "outputs": [
    {
     "name": "stdout",
     "output_type": "stream",
     "text": [
      "Создание экземпляра класса\n",
      "(2, 2)\n",
      "(1, 5)\n",
      "(3, 7)\n"
     ]
    }
   ],
   "source": [
    "p3 = p1 + p2\n",
    "print p1\n",
    "print p2\n",
    "print p3"
   ]
  },
  {
   "cell_type": "code",
   "execution_count": 6,
   "metadata": {
    "collapsed": false,
    "slideshow": {
     "slide_type": "slide"
    }
   },
   "outputs": [
    {
     "name": "stdout",
     "output_type": "stream",
     "text": [
      "(3, 7)\n",
      "2.82842712475\n",
      "5.09901951359\n"
     ]
    }
   ],
   "source": [
    "print p3\n",
    "print p1.distance_from_origin()\n",
    "print p2.distance_from_origin()"
   ]
  },
  {
   "cell_type": "markdown",
   "metadata": {
    "slideshow": {
     "slide_type": "slide"
    }
   },
   "source": [
    "### Три кита ООП\n",
    "\n",
    "- Инкапсуляция\n",
    "- Наследование\n",
    "- Полиморфизм"
   ]
  },
  {
   "cell_type": "markdown",
   "metadata": {
    "slideshow": {
     "slide_type": "slide"
    }
   },
   "source": [
    "### Инкапсуляция\n",
    "\n",
    "- Доступ к данным экземпляра осуществляется только через методы класса\n",
    "- В Python все элементы класса общедоступны, но это можно исправить"
   ]
  },
  {
   "cell_type": "code",
   "execution_count": 10,
   "metadata": {
    "collapsed": false,
    "slideshow": {
     "slide_type": "slide"
    }
   },
   "outputs": [
    {
     "name": "stdout",
     "output_type": "stream",
     "text": [
      "(2, 2)\n"
     ]
    }
   ],
   "source": [
    "# print p1.__x, p1.__y\n",
    "p1.__x = 10\n",
    "print p1"
   ]
  },
  {
   "cell_type": "code",
   "execution_count": 13,
   "metadata": {
    "collapsed": false,
    "slideshow": {
     "slide_type": "slide"
    }
   },
   "outputs": [
    {
     "data": {
      "text/plain": [
       "{'_Point__x': 2, '_Point__y': 2, '__x': 10}"
      ]
     },
     "execution_count": 13,
     "metadata": {},
     "output_type": "execute_result"
    }
   ],
   "source": [
    "p1.__dict__"
   ]
  },
  {
   "cell_type": "markdown",
   "metadata": {
    "slideshow": {
     "slide_type": "slide"
    }
   },
   "source": [
    "### Наследование\n",
    "\n",
    "- Можно выстраивать иерархии классов: \n",
    "    - Точка $\\to$ Точка с положительной первой координатой $\\to$ Точка с положительной первой и второй координатой\n",
    "    - Фигура $\\to$ треугольник $\\to$ прямоугольный треугольник\n",
    "- Дочерний класс содержит все атрибуты родительского класса, при этом некоторые из них могут быть переопределены или добавлены"
   ]
  },
  {
   "cell_type": "code",
   "execution_count": 15,
   "metadata": {
    "collapsed": false,
    "slideshow": {
     "slide_type": "slide"
    }
   },
   "outputs": [
    {
     "name": "stdout",
     "output_type": "stream",
     "text": [
      "None\n",
      "0\n"
     ]
    }
   ],
   "source": [
    "class Mydict(dict):\n",
    "     def get(self, key, default = 0):\n",
    "        return dict.get(self, key, default)\n",
    "    \n",
    "def_dict = {\"a\": 1, \"b\": 2}\n",
    "my_dict = Mydict({\"a\": 1, \"b\": 2})\n",
    "print def_dict.get(\"v\")\n",
    "print my_dict.get(\"v\")"
   ]
  },
  {
   "cell_type": "markdown",
   "metadata": {
    "slideshow": {
     "slide_type": "slide"
    }
   },
   "source": [
    "### Полиморфизм\n",
    "\n",
    "- Возможность переопрелелять методы базовых классов в наследуемых"
   ]
  },
  {
   "cell_type": "code",
   "execution_count": 16,
   "metadata": {
    "collapsed": true
   },
   "outputs": [],
   "source": [
    "class Shape:\n",
    "    def draw(self):\n",
    "        print 'Рисовать фигуру'\n",
    "\n",
    "class Triangle(Shape):\n",
    "    def draw(self):\n",
    "        print 'Рисовать треугольник'\n",
    "\n",
    "class Square(Shape):\n",
    "    def draw(self):\n",
    "        print 'Рисовать квадрат'"
   ]
  },
  {
   "cell_type": "markdown",
   "metadata": {
    "slideshow": {
     "slide_type": "slide"
    }
   },
   "source": [
    "### Заключение\n",
    "\n",
    "- Идея объектно-ориентированного программирования\n",
    "- Классы, экземпляры, свойства, методы\n",
    "- Инкапсуляция, наследование, полиморфизм"
   ]
  }
 ],
 "metadata": {
  "celltoolbar": "Slideshow",
  "kernelspec": {
   "display_name": "Python [conda root]",
   "language": "python",
   "name": "conda-root-py"
  },
  "language_info": {
   "codemirror_mode": {
    "name": "ipython",
    "version": 2
   },
   "file_extension": ".py",
   "mimetype": "text/x-python",
   "name": "python",
   "nbconvert_exporter": "python",
   "pygments_lexer": "ipython2",
   "version": "2.7.13"
  }
 },
 "nbformat": 4,
 "nbformat_minor": 2
}

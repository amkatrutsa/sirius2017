{
 "cells": [
  {
   "cell_type": "markdown",
   "metadata": {
    "slideshow": {
     "slide_type": "slide"
    }
   },
   "source": [
    "# Научные вычисления в Python - NumPy & SciPy"
   ]
  },
  {
   "cell_type": "markdown",
   "metadata": {
    "slideshow": {
     "slide_type": "slide"
    }
   },
   "source": [
    "## Создание матриц и векторов"
   ]
  },
  {
   "cell_type": "code",
   "execution_count": 1,
   "metadata": {
    "collapsed": true,
    "slideshow": {
     "slide_type": "slide"
    }
   },
   "outputs": [],
   "source": [
    "import numpy as np"
   ]
  },
  {
   "cell_type": "code",
   "execution_count": 2,
   "metadata": {
    "collapsed": false,
    "format": "column",
    "scrolled": false,
    "slideshow": {
     "slide_type": "slide"
    }
   },
   "outputs": [
    {
     "name": "stdout",
     "output_type": "stream",
     "text": [
      "The matrix is\n",
      "[[1 3 4]\n",
      " [2 0 5]\n",
      " [4 4 1]\n",
      " [0 1 0]]\n",
      "\n",
      "the vector is\n",
      "[2 1 3]\n"
     ]
    }
   ],
   "source": [
    "matrix_from_list = np.array([[1, 3, 4],\n",
    "                             [2, 0, 5],\n",
    "                             [4, 4, 1],\n",
    "                             [0, 1, 0]])\n",
    "\n",
    "vector_from_list = np.array([2, 1, 3])\n",
    "\n",
    "print 'The matrix is\\n{matrix}\\n\\nthe vector is\\n{vector}'\\\n",
    "        .format(vector=vector_from_list, matrix=matrix_from_list)"
   ]
  },
  {
   "cell_type": "markdown",
   "metadata": {
    "slideshow": {
     "slide_type": "slide"
    }
   },
   "source": [
    "## Основные операции"
   ]
  },
  {
   "cell_type": "markdown",
   "metadata": {
    "slideshow": {
     "slide_type": "slide"
    }
   },
   "source": [
    "### Умножение матрицы на вектор\n",
    "\n",
    "$$\n",
    "y = Ax \\qquad y_i = \\sum_j a_{ij}x_j\n",
    "$$"
   ]
  },
  {
   "cell_type": "code",
   "execution_count": 3,
   "metadata": {
    "collapsed": false,
    "slideshow": {
     "slide_type": "slide"
    }
   },
   "outputs": [
    {
     "data": {
      "text/plain": [
       "array([17, 19, 15,  1])"
      ]
     },
     "execution_count": 3,
     "metadata": {},
     "output_type": "execute_result"
    }
   ],
   "source": [
    "matrix_from_list.dot(vector_from_list)"
   ]
  },
  {
   "cell_type": "markdown",
   "metadata": {
    "slideshow": {
     "slide_type": "slide"
    }
   },
   "source": [
    "### Трансляция"
   ]
  },
  {
   "cell_type": "code",
   "execution_count": 4,
   "metadata": {
    "collapsed": false,
    "slideshow": {
     "slide_type": "slide"
    }
   },
   "outputs": [
    {
     "data": {
      "text/plain": [
       "array([[3, 4, 7],\n",
       "       [4, 1, 8],\n",
       "       [6, 5, 4],\n",
       "       [2, 2, 3]])"
      ]
     },
     "execution_count": 4,
     "metadata": {},
     "output_type": "execute_result"
    }
   ],
   "source": [
    "matrix_from_list + vector_from_list"
   ]
  },
  {
   "cell_type": "markdown",
   "metadata": {
    "slideshow": {
     "slide_type": "slide"
    }
   },
   "source": [
    "### Явное указание типа элементов матрицы/вектора"
   ]
  },
  {
   "cell_type": "code",
   "execution_count": 5,
   "metadata": {
    "collapsed": false,
    "slideshow": {
     "slide_type": "slide"
    }
   },
   "outputs": [
    {
     "data": {
      "text/plain": [
       "dtype('float32')"
      ]
     },
     "execution_count": 5,
     "metadata": {},
     "output_type": "execute_result"
    }
   ],
   "source": [
    "single_precision_vector = np.array([1, 3, 5, 2], dtype=np.float32)\n",
    "single_precision_vector.dtype"
   ]
  },
  {
   "cell_type": "markdown",
   "metadata": {
    "slideshow": {
     "slide_type": "slide"
    }
   },
   "source": [
    "### Преобразование типов"
   ]
  },
  {
   "cell_type": "code",
   "execution_count": 6,
   "metadata": {
    "collapsed": false,
    "slideshow": {
     "slide_type": "slide"
    }
   },
   "outputs": [
    {
     "data": {
      "text/plain": [
       "dtype('int64')"
      ]
     },
     "execution_count": 6,
     "metadata": {},
     "output_type": "execute_result"
    }
   ],
   "source": [
    "vector_from_list.dtype"
   ]
  },
  {
   "cell_type": "code",
   "execution_count": 7,
   "metadata": {
    "collapsed": false,
    "slideshow": {
     "slide_type": "slide"
    }
   },
   "outputs": [
    {
     "data": {
      "text/plain": [
       "array([2, 1, 3], dtype=int16)"
      ]
     },
     "execution_count": 7,
     "metadata": {},
     "output_type": "execute_result"
    }
   ],
   "source": [
    "vector_from_list.astype(np.int16)"
   ]
  },
  {
   "cell_type": "markdown",
   "metadata": {
    "slideshow": {
     "slide_type": "slide"
    }
   },
   "source": [
    "### Размерности: согласованность размерностей необходимый элемент успешных вычислений!"
   ]
  },
  {
   "cell_type": "code",
   "execution_count": 8,
   "metadata": {
    "collapsed": false,
    "format": "column",
    "slideshow": {
     "slide_type": "slide"
    }
   },
   "outputs": [
    {
     "name": "stdout",
     "output_type": "stream",
     "text": [
      "New vector [[1 2 3]] has dimensionality (1, 3)\n",
      "The dot-product is: "
     ]
    },
    {
     "ename": "ValueError",
     "evalue": "shapes (4,3) and (1,3) not aligned: 3 (dim 1) != 1 (dim 0)",
     "output_type": "error",
     "traceback": [
      "\u001b[0;31m---------------------------------------------------------------------------\u001b[0m",
      "\u001b[0;31mValueError\u001b[0m                                Traceback (most recent call last)",
      "\u001b[0;32m<ipython-input-8-286bbd2b9667>\u001b[0m in \u001b[0;36m<module>\u001b[0;34m()\u001b[0m\n\u001b[1;32m      3\u001b[0m \u001b[0;32mprint\u001b[0m \u001b[0;34m'New vector {} has dimensionality {}'\u001b[0m        \u001b[0;34m.\u001b[0m\u001b[0mformat\u001b[0m\u001b[0;34m(\u001b[0m\u001b[0mrow_vector\u001b[0m\u001b[0;34m,\u001b[0m \u001b[0mrow_vector\u001b[0m\u001b[0;34m.\u001b[0m\u001b[0mshape\u001b[0m\u001b[0;34m)\u001b[0m\u001b[0;34m\u001b[0m\u001b[0m\n\u001b[1;32m      4\u001b[0m \u001b[0;34m\u001b[0m\u001b[0m\n\u001b[0;32m----> 5\u001b[0;31m \u001b[0;32mprint\u001b[0m \u001b[0;34m'The dot-product is: '\u001b[0m\u001b[0;34m,\u001b[0m \u001b[0mmatrix_from_list\u001b[0m\u001b[0;34m.\u001b[0m\u001b[0mdot\u001b[0m\u001b[0;34m(\u001b[0m\u001b[0mrow_vector\u001b[0m\u001b[0;34m)\u001b[0m\u001b[0;34m\u001b[0m\u001b[0m\n\u001b[0m",
      "\u001b[0;31mValueError\u001b[0m: shapes (4,3) and (1,3) not aligned: 3 (dim 1) != 1 (dim 0)"
     ]
    }
   ],
   "source": [
    "row_vector = np.array([[1,2,3]])\n",
    "\n",
    "print 'New vector {} has dimensionality {}'\\\n",
    "        .format(row_vector, row_vector.shape)\n",
    "\n",
    "print 'The dot-product is: ', matrix_from_list.dot(row_vector)"
   ]
  },
  {
   "cell_type": "code",
   "execution_count": 9,
   "metadata": {
    "collapsed": false,
    "slideshow": {
     "slide_type": "slide"
    }
   },
   "outputs": [
    {
     "name": "stdout",
     "output_type": "stream",
     "text": [
      " Squeezed vector [1 2 3] has shape (3,)\n"
     ]
    }
   ],
   "source": [
    "singleton_vector = row_vector.squeeze()\n",
    "print 'Squeezed vector {} has shape {}'.format(singleton_vector, singleton_vector.shape)"
   ]
  },
  {
   "cell_type": "code",
   "execution_count": 10,
   "metadata": {
    "collapsed": false,
    "slideshow": {
     "slide_type": "slide"
    }
   },
   "outputs": [
    {
     "data": {
      "text/plain": [
       "array([19, 17, 15,  2])"
      ]
     },
     "execution_count": 10,
     "metadata": {},
     "output_type": "execute_result"
    }
   ],
   "source": [
    "matrix_from_list.dot(singleton_vector)"
   ]
  },
  {
   "cell_type": "markdown",
   "metadata": {
    "slideshow": {
     "slide_type": "slide"
    }
   },
   "source": [
    "### Добавление размерности"
   ]
  },
  {
   "cell_type": "code",
   "execution_count": 11,
   "metadata": {
    "collapsed": false,
    "slideshow": {
     "slide_type": "slide"
    }
   },
   "outputs": [
    {
     "name": "stdout",
     "output_type": "stream",
     "text": [
      "[[1]\n",
      " [2]\n",
      " [3]]\n"
     ]
    }
   ],
   "source": [
    "print singleton_vector[:, np.newaxis]"
   ]
  },
  {
   "cell_type": "code",
   "execution_count": 12,
   "metadata": {
    "collapsed": false,
    "slideshow": {
     "slide_type": "slide"
    }
   },
   "outputs": [
    {
     "data": {
      "text/plain": [
       "array([ 0,  1,  2,  3,  4,  5,  6,  7,  8,  9, 10, 11])"
      ]
     },
     "execution_count": 12,
     "metadata": {},
     "output_type": "execute_result"
    }
   ],
   "source": [
    "mat = np.arange(12)\n",
    "mat.reshape(-1, 4)\n",
    "mat"
   ]
  },
  {
   "cell_type": "code",
   "execution_count": 13,
   "metadata": {
    "collapsed": false,
    "slideshow": {
     "slide_type": "slide"
    }
   },
   "outputs": [
    {
     "name": "stdout",
     "output_type": "stream",
     "text": [
      "[[1]\n",
      " [2]\n",
      " [3]]\n"
     ]
    }
   ],
   "source": [
    "print singleton_vector[:, None]"
   ]
  },
  {
   "cell_type": "markdown",
   "metadata": {
    "slideshow": {
     "slide_type": "slide"
    }
   },
   "source": [
    "## Индексирвоание и slicing"
   ]
  },
  {
   "cell_type": "code",
   "execution_count": 14,
   "metadata": {
    "collapsed": false,
    "slideshow": {
     "slide_type": "slide"
    }
   },
   "outputs": [
    {
     "data": {
      "text/plain": [
       "array([ 0,  1,  2,  3,  4,  5,  6,  7,  8,  9, 10, 11])"
      ]
     },
     "execution_count": 14,
     "metadata": {},
     "output_type": "execute_result"
    }
   ],
   "source": [
    "vector12 = np.arange(12)\n",
    "vector12"
   ]
  },
  {
   "cell_type": "markdown",
   "metadata": {
    "slideshow": {
     "slide_type": "slide"
    }
   },
   "source": [
    "Угадайте, что будет результатом следующих операций:\n",
    "```python\n",
    "vector12[:3]\n",
    "vector12[-1]\n",
    "vector12[:-2]\n",
    "vector12[3:7]\n",
    "vector12[::2]\n",
    "vector12[::-1]\n",
    "```"
   ]
  },
  {
   "cell_type": "code",
   "execution_count": 15,
   "metadata": {
    "collapsed": false,
    "slideshow": {
     "slide_type": "slide"
    }
   },
   "outputs": [
    {
     "data": {
      "text/plain": [
       "array([[ 0,  1,  2],\n",
       "       [ 3,  4,  5],\n",
       "       [ 6,  7,  8],\n",
       "       [ 9, 10, 11]])"
      ]
     },
     "execution_count": 15,
     "metadata": {},
     "output_type": "execute_result"
    }
   ],
   "source": [
    "matrix43 = vector12.reshape(4, 3)\n",
    "matrix43"
   ]
  },
  {
   "cell_type": "markdown",
   "metadata": {
    "slideshow": {
     "slide_type": "slide"
    }
   },
   "source": [
    "Угадайте, что будет результатом следующих операций:\n",
    "```python\n",
    "matrix43[:, 0]\n",
    "matrix43[-1, :]\n",
    "matrix43[::2, :]\n",
    "matrix43[:3, :-1]\n",
    "matrix43[3:, 1]\n",
    "```"
   ]
  },
  {
   "cell_type": "markdown",
   "metadata": {
    "slideshow": {
     "slide_type": "slide"
    }
   },
   "source": [
    "### Отличие от MATLAB\n",
    "\n",
    "- Индексация с 0\n",
    "- Массивы в NumPy по умолчанию хранятся по столбцам"
   ]
  },
  {
   "cell_type": "markdown",
   "metadata": {
    "slideshow": {
     "slide_type": "slide"
    }
   },
   "source": [
    "## Представление (view) vs Копия\n",
    "\n",
    "- Работа с представлениями более эффективна и предпочтительна\n",
    "\n",
    "- Представление возвращатся при использование основных slicing-операций\n",
    "\n",
    "- Детали: http://docs.scipy.org/doc/numpy/reference/arrays.indexing.html\n",
    "\n",
    "Сделать копию просто"
   ]
  },
  {
   "cell_type": "code",
   "execution_count": 558,
   "metadata": {
    "collapsed": false,
    "slideshow": {
     "slide_type": "slide"
    }
   },
   "outputs": [],
   "source": [
    "matrix43_copy = matrix43[:]"
   ]
  },
  {
   "cell_type": "markdown",
   "metadata": {
    "slideshow": {
     "slide_type": "slide"
    }
   },
   "source": [
    "## Изменение размерностей (reshaping)"
   ]
  },
  {
   "cell_type": "code",
   "execution_count": 16,
   "metadata": {
    "collapsed": false,
    "format": "row",
    "slideshow": {
     "slide_type": "slide"
    }
   },
   "outputs": [
    {
     "data": {
      "text/plain": [
       "array([[90, 53, 95, 27],\n",
       "       [45, 33, 47, 58],\n",
       "       [44, 40, 51, 30],\n",
       "       [80, 24, 20, 26],\n",
       "       [39, 97, 65, 78],\n",
       "       [81, 37, 97, 38]])"
      ]
     },
     "execution_count": 16,
     "metadata": {},
     "output_type": "execute_result"
    }
   ],
   "source": [
    "matrix_to_reshape = np.random.randint(10, 99, size=(6, 4))\n",
    "matrix_to_reshape"
   ]
  },
  {
   "cell_type": "code",
   "execution_count": 17,
   "metadata": {
    "collapsed": false,
    "format": "row",
    "slideshow": {
     "slide_type": "slide"
    }
   },
   "outputs": [
    {
     "data": {
      "text/plain": [
       "array([[90, 53, 95],\n",
       "       [27, 45, 33],\n",
       "       [47, 58, 44],\n",
       "       [40, 51, 30],\n",
       "       [80, 24, 20],\n",
       "       [26, 39, 97],\n",
       "       [65, 78, 81],\n",
       "       [37, 97, 38]])"
      ]
     },
     "execution_count": 17,
     "metadata": {},
     "output_type": "execute_result"
    }
   ],
   "source": [
    "reshaped_matrix = matrix_to_reshape.reshape(8, 3)\n",
    "reshaped_matrix"
   ]
  },
  {
   "cell_type": "markdown",
   "metadata": {
    "slideshow": {
     "slide_type": "slide"
    }
   },
   "source": [
    "## Reshape всегда возвращает представление"
   ]
  },
  {
   "cell_type": "code",
   "execution_count": 23,
   "metadata": {
    "collapsed": false,
    "format": "column",
    "slideshow": {
     "slide_type": "slide"
    }
   },
   "outputs": [
    {
     "data": {
      "text/plain": [
       "array([[90, 53, 95, 27],\n",
       "       [45, 33, 47, 58],\n",
       "       [44, 40, 51, 30],\n",
       "       [80, 24, 20, 26],\n",
       "       [39, 97, 65, 78],\n",
       "       [81, _1_, 97, 38]])"
      ]
     },
     "execution_count": 23,
     "metadata": {},
     "output_type": "execute_result"
    }
   ],
   "source": [
    "reshaped_matrix[-1, 0] = 1\n",
    "np.set_printoptions(formatter={'all':lambda x: '_{}_'.format(x) if x < 10 else str(x)})\n",
    "matrix_to_reshape[:]"
   ]
  },
  {
   "cell_type": "code",
   "execution_count": 24,
   "metadata": {
    "collapsed": false,
    "slideshow": {
     "slide_type": "slide"
    }
   },
   "outputs": [],
   "source": [
    "np.set_printoptions()"
   ]
  },
  {
   "cell_type": "markdown",
   "metadata": {
    "slideshow": {
     "slide_type": "slide"
    }
   },
   "source": [
    "## Булева индексация"
   ]
  },
  {
   "cell_type": "code",
   "execution_count": 25,
   "metadata": {
    "collapsed": false,
    "slideshow": {
     "slide_type": "slide"
    }
   },
   "outputs": [
    {
     "data": {
      "text/plain": [
       "array([ 5,  6,  7,  8,  9, 10, 11])"
      ]
     },
     "execution_count": 25,
     "metadata": {},
     "output_type": "execute_result"
    }
   ],
   "source": [
    "idx = matrix43 > 4\n",
    "matrix43[idx]"
   ]
  },
  {
   "cell_type": "markdown",
   "metadata": {
    "slideshow": {
     "slide_type": "slide"
    }
   },
   "source": [
    "## Полезные NumPy-функции"
   ]
  },
  {
   "cell_type": "markdown",
   "metadata": {
    "slideshow": {
     "slide_type": "slide"
    }
   },
   "source": [
    "- ``np.eye()`` - создание единичной матрицы\n",
    "- ``np.ones()`` - создание матрицы из всех единиц\n",
    "- ``np.zeros()`` - создание нулевой матрицы\n",
    "- ``np.diag()`` - создание диагональной матрицы или извлечение диагонали из данной матрицы"
   ]
  },
  {
   "cell_type": "markdown",
   "metadata": {
    "slideshow": {
     "slide_type": "slide"
    }
   },
   "source": [
    "### Пример\n",
    "\n",
    "Построить трёхдиагональную матрицу с -2 на диагонали и 1 на над- и поддиагоналях"
   ]
  },
  {
   "cell_type": "code",
   "execution_count": 26,
   "metadata": {
    "collapsed": false,
    "slideshow": {
     "slide_type": "slide"
    }
   },
   "outputs": [
    {
     "name": "stdout",
     "output_type": "stream",
     "text": [
      "[[-2  1  0  0  0]\n",
      " [ 1 -2  1  0  0]\n",
      " [ 0  1 -2  1  0]\n",
      " [ 0  0  1 -2  1]\n",
      " [ 0  0  0  1 -2]]\n"
     ]
    }
   ],
   "source": [
    "def three_diagonal(N):\n",
    "    A = np.zeros((N, N), dtype=np.int)\n",
    "    for i in range(N):\n",
    "        A[i, i] = -2\n",
    "        if i > 0:\n",
    "            A[i, i-1] = 1\n",
    "        if i < N-1:\n",
    "            A[i, i+1] = 1\n",
    "    return A\n",
    "\n",
    "print three_diagonal(5)"
   ]
  },
  {
   "cell_type": "code",
   "execution_count": 27,
   "metadata": {
    "collapsed": false,
    "slideshow": {
     "slide_type": "slide"
    }
   },
   "outputs": [
    {
     "data": {
      "text/plain": [
       "array([[-2,  1,  0,  0,  0],\n",
       "       [ 1, -2,  1,  0,  0],\n",
       "       [ 0,  1, -2,  1,  0],\n",
       "       [ 0,  0,  1, -2,  1],\n",
       "       [ 0,  0,  0,  1, -2]])"
      ]
     },
     "execution_count": 27,
     "metadata": {},
     "output_type": "execute_result"
    }
   ],
   "source": [
    "def numpy_three_diagonal(N):\n",
    "    main_diagonal = -2 * np.eye(N)\n",
    "    \n",
    "    suddiag_value = np.ones(N-1,)\n",
    "    lower_subdiag = np.diag(suddiag_value, k=-1)\n",
    "    upper_subdiag = np.diag(suddiag_value, k=1)\n",
    "    \n",
    "    result = main_diagonal + lower_subdiag + upper_subdiag\n",
    "    return result.astype(np.int)\n",
    "\n",
    "numpy_three_diagonal(5)"
   ]
  },
  {
   "cell_type": "markdown",
   "metadata": {
    "slideshow": {
     "slide_type": "slide"
    }
   },
   "source": [
    "### \"Сокращатели\" (reducers): sum, mean, max, min, all, any"
   ]
  },
  {
   "cell_type": "code",
   "execution_count": 28,
   "metadata": {
    "collapsed": false,
    "slideshow": {
     "slide_type": "slide"
    }
   },
   "outputs": [
    {
     "name": "stdout",
     "output_type": "stream",
     "text": [
      "[[-2  1  0  0  5]\n",
      " [ 1 -2  1  0  0]\n",
      " [ 0  1 -2  1  0]\n",
      " [ 0  0  1 -2  1]\n",
      " [ 3  0  0  1 -2]]\n",
      "6\n",
      "-2\n",
      "[3 1 1 1 5]\n",
      "[2 0 0 0 4]\n",
      "[ 0.8  0.   0.   0.   0.4]\n",
      "[ True False False False False]\n"
     ]
    }
   ],
   "source": [
    "A = numpy_three_diagonal(5)\n",
    "A[0, -1] = 5\n",
    "A[-1, 0] = 3\n",
    "\n",
    "print A\n",
    "print A.sum()\n",
    "print A.min()\n",
    "print A.max(axis=0)\n",
    "print A.sum(axis=0)\n",
    "print A.mean(axis=1)\n",
    "print (A > 4).any(axis=1)"
   ]
  },
  {
   "cell_type": "markdown",
   "metadata": {
    "slideshow": {
     "slide_type": "slide"
    }
   },
   "source": [
    "### Математические функции в NumPy"
   ]
  },
  {
   "cell_type": "code",
   "execution_count": 29,
   "metadata": {
    "collapsed": false,
    "slideshow": {
     "slide_type": "slide"
    }
   },
   "outputs": [
    {
     "name": "stdout",
     "output_type": "stream",
     "text": [
      "3.14159265359\n"
     ]
    }
   ],
   "source": [
    "print np.pi"
   ]
  },
  {
   "cell_type": "code",
   "execution_count": 30,
   "metadata": {
    "collapsed": false,
    "slideshow": {
     "slide_type": "slide"
    }
   },
   "outputs": [],
   "source": [
    "args = np.arange(0, 2.5*np.pi, 0.5*np.pi)"
   ]
  },
  {
   "cell_type": "code",
   "execution_count": 31,
   "metadata": {
    "collapsed": false,
    "slideshow": {
     "slide_type": "slide"
    }
   },
   "outputs": [
    {
     "name": "stdout",
     "output_type": "stream",
     "text": [
      "[  0.00000000e+00   1.00000000e+00   1.22464680e-16  -1.00000000e+00\n",
      "  -2.44929360e-16]\n"
     ]
    }
   ],
   "source": [
    "print np.sin(args)"
   ]
  },
  {
   "cell_type": "code",
   "execution_count": 35,
   "metadata": {
    "collapsed": false,
    "slideshow": {
     "slide_type": "slide"
    }
   },
   "outputs": [
    {
     "name": "stdout",
     "output_type": "stream",
     "text": [
      "[ 0.  1.  0. -1. -0.]\n"
     ]
    }
   ],
   "source": [
    "print np.round(np.sin(args), decimals=2)"
   ]
  },
  {
   "cell_type": "markdown",
   "metadata": {
    "slideshow": {
     "slide_type": "slide"
    }
   },
   "source": [
    "### Управление форматом вывода"
   ]
  },
  {
   "cell_type": "code",
   "execution_count": 36,
   "metadata": {
    "collapsed": false,
    "slideshow": {
     "slide_type": "slide"
    }
   },
   "outputs": [
    {
     "data": {
      "text/plain": [
       "'0.0, 100.0%, 1.224647e-16, -1.00, -0'"
      ]
     },
     "execution_count": 36,
     "metadata": {},
     "output_type": "execute_result"
    }
   ],
   "source": [
    "'{}, {:.1%}, {:e}, {:.2f}, {:.0f}'.format(*np.sin(args))"
   ]
  },
  {
   "cell_type": "code",
   "execution_count": 37,
   "metadata": {
    "collapsed": false,
    "slideshow": {
     "slide_type": "slide"
    }
   },
   "outputs": [
    {
     "name": "stdout",
     "output_type": "stream",
     "text": [
      "[0.00 1.00 0.00 -1.00 -0.00]\n"
     ]
    }
   ],
   "source": [
    "np.set_printoptions(formatter={'all':lambda x: '{:.2f}'.format(x)})\n",
    "print np.sin(args)\n",
    "np.set_printoptions()"
   ]
  },
  {
   "cell_type": "markdown",
   "metadata": {
    "slideshow": {
     "slide_type": "slide"
    }
   },
   "source": [
    "### Сетки\n",
    "\n",
    "- ``np.linspace``\n",
    "- ``np.meshgrid``"
   ]
  },
  {
   "cell_type": "markdown",
   "metadata": {
    "slideshow": {
     "slide_type": "slide"
    }
   },
   "source": [
    "### Пример\n",
    "\n",
    "Функция \n",
    "$$\n",
    "f(x, y) = \\sin(x+y)\n",
    "$$\n",
    "на некоторой сетке."
   ]
  },
  {
   "cell_type": "code",
   "execution_count": 38,
   "metadata": {
    "collapsed": false,
    "slideshow": {
     "slide_type": "slide"
    }
   },
   "outputs": [],
   "source": [
    "linear_index = np.linspace(0, np.pi, 10, endpoint=True)\n",
    "mesh_x, mesh_y = np.meshgrid(linear_index, linear_index)\n",
    "\n",
    "values_3D = np.sin(mesh_x + mesh_y)"
   ]
  },
  {
   "cell_type": "code",
   "execution_count": 40,
   "metadata": {
    "collapsed": false,
    "format": "row",
    "scrolled": true,
    "slideshow": {
     "slide_type": "slide"
    }
   },
   "outputs": [
    {
     "data": {
      "text/plain": [
       "<matplotlib.text.Text at 0x7f906e770ad0>"
      ]
     },
     "execution_count": 40,
     "metadata": {},
     "output_type": "execute_result"
    },
    {
     "data": {
      "image/png": "[encoded data removed]",
      "text/plain": [
       "<matplotlib.figure.Figure at 0x7f90749b1fd0>"
      ]
     },
     "metadata": {},
     "output_type": "display_data"
    }
   ],
   "source": [
    "import matplotlib.pyplot as plt\n",
    "from mpl_toolkits.mplot3d import Axes3D\n",
    "%matplotlib inline\n",
    "\n",
    "fig = plt.figure(figsize=(10,6))\n",
    "ax = fig.gca(projection='3d')\n",
    "\n",
    "ax.plot_wireframe(mesh_x, mesh_y, values_3D)\n",
    "ax.view_init(azim=-45, elev=30)\n",
    "\n",
    "plt.title('The plot of $f(x, y) = \\sin(x+y)$')"
   ]
  },
  {
   "cell_type": "markdown",
   "metadata": {
    "slideshow": {
     "slide_type": "slide"
    }
   },
   "source": [
    "# Scipy - scientific computing 2"
   ]
  },
  {
   "cell_type": "markdown",
   "metadata": {},
   "source": [
    "## Building sparse matrix"
   ]
  },
  {
   "cell_type": "code",
   "execution_count": 577,
   "metadata": {
    "collapsed": true
   },
   "outputs": [],
   "source": [
    "import scipy.sparse as sp"
   ]
  },
  {
   "cell_type": "code",
   "execution_count": 578,
   "metadata": {
    "collapsed": false
   },
   "outputs": [],
   "source": [
    "def scipy_three_diagonal(N):\n",
    "    main_diagonal = -2 * np.ones(N, )\n",
    "    suddiag_values = np.ones(N-1,)\n",
    "    \n",
    "    diagonals = [main_diagonal, suddiag_values, suddiag_values]\n",
    "    # Another option: use sp.eye(N) and add subdiagonals\n",
    "    offsets = [0, 1, -1]\n",
    "    \n",
    "    result = sp.diags(diagonals, offsets, shape=(N, N), format='coo')\n",
    "    return result\n",
    "\n",
    "my_sparse_matrix = scipy_three_diagonal(5)"
   ]
  },
  {
   "cell_type": "markdown",
   "metadata": {
    "slideshow": {
     "slide_type": "subslide"
    }
   },
   "source": [
    "### How does scipy represent sparse matrix?"
   ]
  },
  {
   "cell_type": "code",
   "execution_count": 579,
   "metadata": {
    "collapsed": false,
    "slideshow": {
     "slide_type": "-"
    }
   },
   "outputs": [
    {
     "data": {
      "text/plain": [
       "<5x5 sparse matrix of type '<type 'numpy.float64'>'\n",
       "\twith 13 stored elements in COOrdinate format>"
      ]
     },
     "execution_count": 579,
     "metadata": {},
     "output_type": "execute_result"
    }
   ],
   "source": [
    "my_sparse_matrix"
   ]
  },
  {
   "cell_type": "markdown",
   "metadata": {},
   "source": [
    "Sparse matrix stores only non-zero elements (and their indices)"
   ]
  },
  {
   "cell_type": "code",
   "execution_count": 580,
   "metadata": {
    "collapsed": false
   },
   "outputs": [
    {
     "name": "stdout",
     "output_type": "stream",
     "text": [
      "  (0, 0)\t-2.0\n",
      "  (1, 1)\t-2.0\n",
      "  (2, 2)\t-2.0\n",
      "  (3, 3)\t-2.0\n",
      "  (4, 4)\t-2.0\n",
      "  (0, 1)\t1.0\n",
      "  (1, 2)\t1.0\n",
      "  (2, 3)\t1.0\n",
      "  (3, 4)\t1.0\n",
      "  (1, 0)\t1.0\n",
      "  (2, 1)\t1.0\n",
      "  (3, 2)\t1.0\n",
      "  (4, 3)\t1.0\n"
     ]
    }
   ],
   "source": [
    "print my_sparse_matrix"
   ]
  },
  {
   "cell_type": "markdown",
   "metadata": {
    "slideshow": {
     "slide_type": "subslide"
    }
   },
   "source": [
    "### Restoring full matrix"
   ]
  },
  {
   "cell_type": "code",
   "execution_count": 581,
   "metadata": {
    "collapsed": false
   },
   "outputs": [
    {
     "data": {
      "text/plain": [
       "array([[-2.,  1.,  0.,  0.,  0.],\n",
       "       [ 1., -2.,  1.,  0.,  0.],\n",
       "       [ 0.,  1., -2.,  1.,  0.],\n",
       "       [ 0.,  0.,  1., -2.,  1.],\n",
       "       [ 0.,  0.,  0.,  1., -2.]])"
      ]
     },
     "execution_count": 581,
     "metadata": {},
     "output_type": "execute_result"
    }
   ],
   "source": [
    "my_sparse_matrix.toarray()"
   ]
  },
  {
   "cell_type": "code",
   "execution_count": 582,
   "metadata": {
    "collapsed": false
   },
   "outputs": [
    {
     "data": {
      "text/plain": [
       "array([[-2.,  1.,  0.,  0.,  0.],\n",
       "       [ 1., -2.,  1.,  0.,  0.],\n",
       "       [ 0.,  1., -2.,  1.,  0.],\n",
       "       [ 0.,  0.,  1., -2.,  1.],\n",
       "       [ 0.,  0.,  0.,  1., -2.]])"
      ]
     },
     "execution_count": 582,
     "metadata": {},
     "output_type": "execute_result"
    }
   ],
   "source": [
    "my_sparse_matrix.A"
   ]
  },
  {
   "cell_type": "markdown",
   "metadata": {
    "slideshow": {
     "slide_type": "subslide"
    }
   },
   "source": [
    "## Popular  (not sparse) matrices:"
   ]
  },
  {
   "cell_type": "code",
   "execution_count": 583,
   "metadata": {
    "collapsed": true
   },
   "outputs": [],
   "source": [
    "from scipy.linalg import toeplitz, hankel"
   ]
  },
  {
   "cell_type": "code",
   "execution_count": 584,
   "metadata": {
    "collapsed": false
   },
   "outputs": [
    {
     "data": {
      "text/plain": [
       "array([[ 0,  1,  2,  3],\n",
       "       [ 1,  2,  3, -2],\n",
       "       [ 2,  3, -2, -3],\n",
       "       [ 3, -2, -3, -4]])"
      ]
     },
     "execution_count": 584,
     "metadata": {},
     "output_type": "execute_result"
    }
   ],
   "source": [
    "hankel(xrange(4), [-1, -2, -3, -4])"
   ]
  },
  {
   "cell_type": "code",
   "execution_count": 585,
   "metadata": {
    "collapsed": false
   },
   "outputs": [
    {
     "data": {
      "text/plain": [
       "array([[0, 1, 2, 3],\n",
       "       [1, 0, 1, 2],\n",
       "       [2, 1, 0, 1],\n",
       "       [3, 2, 1, 0]])"
      ]
     },
     "execution_count": 585,
     "metadata": {},
     "output_type": "execute_result"
    }
   ],
   "source": [
    "toeplitz(xrange(4))"
   ]
  },
  {
   "cell_type": "markdown",
   "metadata": {
    "slideshow": {
     "slide_type": "slide"
    }
   },
   "source": [
    "# Timing - measuring performance"
   ]
  },
  {
   "cell_type": "markdown",
   "metadata": {
    "slideshow": {
     "slide_type": "subslide"
    }
   },
   "source": [
    "## Simplest way to measure time"
   ]
  },
  {
   "cell_type": "code",
   "execution_count": 586,
   "metadata": {
    "collapsed": false
   },
   "outputs": [
    {
     "name": "stdout",
     "output_type": "stream",
     "text": [
      "1000 loops, best of 3: 1.53 ms per loop\n",
      "10 loops, best of 3: 20.6 ms per loop\n",
      "1000 loops, best of 3: 272 µs per loop\n"
     ]
    }
   ],
   "source": [
    "N = 1000\n",
    "%timeit three_diagonal(N)\n",
    "%timeit numpy_three_diagonal(N)\n",
    "%timeit scipy_three_diagonal(N)"
   ]
  },
  {
   "cell_type": "markdown",
   "metadata": {},
   "source": [
    "You can also use `%%timeit` magic to measure run time of the whole cell"
   ]
  },
  {
   "cell_type": "code",
   "execution_count": 587,
   "metadata": {
    "collapsed": false
   },
   "outputs": [
    {
     "name": "stdout",
     "output_type": "stream",
     "text": [
      "100 loops, best of 3: 2.17 ms per loop\n"
     ]
    }
   ],
   "source": [
    "%%timeit\n",
    "N = 1000\n",
    "calc = three_diagonal(N)\n",
    "calc = scipy_three_diagonal(N)\n",
    "del calc"
   ]
  },
  {
   "cell_type": "markdown",
   "metadata": {
    "slideshow": {
     "slide_type": "subslide"
    }
   },
   "source": [
    "## Storing timings in a separate variable"
   ]
  },
  {
   "cell_type": "markdown",
   "metadata": {},
   "source": [
    "Avoid using `time.time()` or `time.clock()` directly as their behaviour's different depending on platform; `default_timer` makes the best choice for you. It measures wall time though, e.g. not very precise."
   ]
  },
  {
   "cell_type": "code",
   "execution_count": 588,
   "metadata": {
    "collapsed": false
   },
   "outputs": [],
   "source": [
    "from timeit import default_timer as timer"
   ]
  },
  {
   "cell_type": "code",
   "execution_count": 589,
   "metadata": {
    "collapsed": false
   },
   "outputs": [],
   "source": [
    "dims = [300, 1000, 3000, 10000]\n",
    "bench_names = ['loop', 'numpy', 'scipy']\n",
    "timings = {bench:[] for bench in bench_names}\n",
    "\n",
    "for n in dims:\n",
    "    start_time = timer()\n",
    "    calc = three_diagonal(n)\n",
    "    time_delta = timer() - start_time\n",
    "    timings['loop'].append(time_delta)\n",
    "    \n",
    "    start_time = timer()\n",
    "    calc = numpy_three_diagonal(n)\n",
    "    time_delta = timer() - start_time\n",
    "    timings['numpy'].append(time_delta)\n",
    "    \n",
    "    start_time = timer()\n",
    "    calc = scipy_three_diagonal(n)\n",
    "    time_delta = timer() - start_time\n",
    "    timings['scipy'].append(time_delta)"
   ]
  },
  {
   "cell_type": "markdown",
   "metadata": {
    "slideshow": {
     "slide_type": "subslide"
    }
   },
   "source": [
    "Let's make the code less redundant"
   ]
  },
  {
   "cell_type": "code",
   "execution_count": 590,
   "metadata": {
    "collapsed": false,
    "slideshow": {
     "slide_type": "-"
    }
   },
   "outputs": [],
   "source": [
    "dims = [300, 1000, 3000, 10000]\n",
    "bench_names = ['loop', 'numpy', 'scipy']\n",
    "timings = {bench_name: [] for bench_name in bench_names}\n",
    "\n",
    "def timing_machine(func, *args, **kwargs):\n",
    "    start_time = timer()\n",
    "    result = func(*args, **kwargs)\n",
    "    time_delta = timer() - start_time\n",
    "    return time_delta\n",
    "\n",
    "for n in dims:\n",
    "    timings['loop'].append(timing_machine(three_diagonal, n))\n",
    "    timings['numpy'].append(timing_machine(numpy_three_diagonal, n))\n",
    "    timings['scipy'].append(timing_machine(scipy_three_diagonal, n))"
   ]
  },
  {
   "cell_type": "markdown",
   "metadata": {
    "slideshow": {
     "slide_type": "subslide"
    }
   },
   "source": [
    "## `timeit` with -o parameter"
   ]
  },
  {
   "cell_type": "markdown",
   "metadata": {},
   "source": [
    "more details on different parameters:\n",
    "https://ipython.org/ipython-doc/dev/interactive/magics.html#magic-timeit"
   ]
  },
  {
   "cell_type": "code",
   "execution_count": 612,
   "metadata": {
    "collapsed": false
   },
   "outputs": [
    {
     "name": "stdout",
     "output_type": "stream",
     "text": [
      "Best of 5 runs: 0.00000565s\n"
     ]
    }
   ],
   "source": [
    "timeit_result = %timeit -q -r 5 -o three_diagonal(10)\n",
    "print 'Best of {} runs: {:.8f}s'.format(timeit_result.repeat,\n",
    "                                        timeit_result.best)"
   ]
  },
  {
   "cell_type": "markdown",
   "metadata": {},
   "source": [
    "Our new benchmark procedure"
   ]
  },
  {
   "cell_type": "code",
   "execution_count": 592,
   "metadata": {
    "collapsed": false
   },
   "outputs": [
    {
     "name": "stdout",
     "output_type": "stream",
     "text": [
      "\n",
      "Measuring three_diagonal\n",
      "300 1000 3000 10000 \n",
      "Measuring numpy_three_diagonal\n",
      "300 1000 3000 10000 \n",
      "Measuring scipy_three_diagonal\n",
      "300 1000 3000 10000\n"
     ]
    }
   ],
   "source": [
    "dims = [300, 1000, 3000, 10000]\n",
    "bench_names = ['loop', 'numpy', 'scipy']\n",
    "bench_funcs = [three_diagonal, numpy_three_diagonal, scipy_three_diagonal]\n",
    "timings_best = {bench_name: [] for bench_name in bench_names}\n",
    "\n",
    "for bench_name, bench_func in zip(bench_names, bench_funcs):\n",
    "    print '\\nMeasuring {}'.format(bench_func.func_name)\n",
    "    for n in dims:\n",
    "        print n,\n",
    "        time_result = %timeit -q -o bench_func(n)\n",
    "        timings_best[bench_name].append(time_result.best)"
   ]
  },
  {
   "cell_type": "markdown",
   "metadata": {
    "slideshow": {
     "slide_type": "slide"
    }
   },
   "source": [
    "# Matplotlib - plotting in python"
   ]
  },
  {
   "cell_type": "markdown",
   "metadata": {},
   "source": [
    "don't forget to check\n",
    "* http://matplotlib.org/users/pyplot_tutorial.html\n",
    "* http://matplotlib.org/gallery.html\n",
    "* http://matplotlib.org/examples/index.html"
   ]
  },
  {
   "cell_type": "markdown",
   "metadata": {
    "slideshow": {
     "slide_type": "subslide"
    }
   },
   "source": [
    "## Configuring matplotlib"
   ]
  },
  {
   "cell_type": "code",
   "execution_count": 593,
   "metadata": {
    "collapsed": false,
    "run_control": {
     "marked": false
    },
    "slideshow": {
     "slide_type": "-"
    }
   },
   "outputs": [],
   "source": [
    "import matplotlib.pyplot as plt\n",
    "%matplotlib inline "
   ]
  },
  {
   "cell_type": "markdown",
   "metadata": {},
   "source": [
    "`%matplotlib inline` ensures all graphs are plotted inside your notebook"
   ]
  },
  {
   "cell_type": "markdown",
   "metadata": {
    "collapsed": true
   },
   "source": [
    "## Global controls"
   ]
  },
  {
   "cell_type": "markdown",
   "metadata": {},
   "source": [
    "(more at http://matplotlib.org/users/customizing.html)"
   ]
  },
  {
   "cell_type": "code",
   "execution_count": 594,
   "metadata": {
    "collapsed": true
   },
   "outputs": [],
   "source": [
    "# plt.rcParams.update({'axes.labelsize': 'large'})\n",
    "plt.rcParams.update({'font.size': 14})"
   ]
  },
  {
   "cell_type": "markdown",
   "metadata": {
    "slideshow": {
     "slide_type": "subslide"
    }
   },
   "source": [
    "## Combined plot"
   ]
  },
  {
   "cell_type": "code",
   "execution_count": 595,
   "metadata": {
    "collapsed": false,
    "slideshow": {
     "slide_type": "subslide"
    }
   },
   "outputs": [
    {
     "data": {
      "text/plain": [
       "<matplotlib.text.Text at 0x4fc49cc0>"
      ]
     },
     "execution_count": 595,
     "metadata": {},
     "output_type": "execute_result"
    },
    {
     "data": {
      "image/png": "[encoded data removed]",
      "text/plain": [
       "<matplotlib.figure.Figure at 0x3b154710>"
      ]
     },
     "metadata": {},
     "output_type": "display_data"
    }
   ],
   "source": [
    "plt.figure(figsize=(10,8))\n",
    "\n",
    "for bench_name, values in timings_best.iteritems():\n",
    "    plt.semilogy(dims, values, label=bench_name)\n",
    "    \n",
    "plt.legend(loc='best')\n",
    "plt.title('Benchmarking results with best of timeit', y=1.03)\n",
    "plt.xlabel('Matrix dimension size')\n",
    "plt.ylabel('Time, s')"
   ]
  },
  {
   "cell_type": "code",
   "execution_count": 596,
   "metadata": {
    "collapsed": false,
    "format": "tab",
    "scrolled": true,
    "slideshow": {
     "slide_type": "subslide"
    }
   },
   "outputs": [
    {
     "data": {
      "text/plain": [
       "<matplotlib.text.Text at 0x375a2630>"
      ]
     },
     "execution_count": 596,
     "metadata": {},
     "output_type": "execute_result"
    },
    {
     "data": {
      "image/png": "[encoded data removed]",
      "text/plain": [
       "<matplotlib.figure.Figure at 0x2f8025c0>"
      ]
     },
     "metadata": {},
     "output_type": "display_data"
    }
   ],
   "source": [
    "plt.figure(figsize=(10,8))\n",
    "\n",
    "for bench_name, values in timings.iteritems():\n",
    "    plt.semilogy(dims, values, label=bench_name)\n",
    "    \n",
    "plt.legend(loc='best')\n",
    "plt.title('Benchmarking results with default_timer', y=1.03)\n",
    "plt.xlabel('Matrix dimension size')\n",
    "plt.ylabel('Time, s')"
   ]
  },
  {
   "cell_type": "markdown",
   "metadata": {
    "slideshow": {
     "slide_type": "subslide"
    }
   },
   "source": [
    "**Think, why:**\n",
    "* \"loop\" was faster then \"numpy\"\n",
    "* \"scipy\" is almost constant\n",
    "* results for *default_timer* and *\"best of timeit\"* are different\n",
    "\n",
    "You might want to read the docs:\n",
    "* https://docs.python.org/2/library/timeit.html#timeit.default_timer\n",
    "* https://docs.python.org/2/library/time.html#time.clock and https://docs.python.org/2/library/time.html#time.time\n",
    "\n",
    "**Remark:** starting from *python 3.3* it's recommended to use ```time.perf_counter()``` and ```time.process_time()```\n",
    "https://docs.python.org/3/library/time.html#time.perf_counter\n",
    "\n",
    "Also note, that for advanced benchmarking it's better to use profiling tools."
   ]
  },
  {
   "cell_type": "markdown",
   "metadata": {
    "slideshow": {
     "slide_type": "subslide"
    }
   },
   "source": [
    "### Combined plot \"one-liner\""
   ]
  },
  {
   "cell_type": "markdown",
   "metadata": {},
   "source": [
    "Use ```plt.plot?``` to get detailed info on function usage."
   ]
  },
  {
   "cell_type": "markdown",
   "metadata": {},
   "source": [
    "**Task**: given lists of x-values, y-falues and plot format strings, plot all three graphs in one line.\n",
    "\n",
    "*Hint*: use list comprehensions"
   ]
  },
  {
   "cell_type": "code",
   "execution_count": 597,
   "metadata": {
    "collapsed": false,
    "slideshow": {
     "slide_type": "subslide"
    }
   },
   "outputs": [
    {
     "data": {
      "text/plain": [
       "<matplotlib.text.Text at 0x2859bfd0>"
      ]
     },
     "execution_count": 597,
     "metadata": {},
     "output_type": "execute_result"
    },
    {
     "data": {
      "image/png": "[encoded data removed]",
      "text/plain": [
       "<matplotlib.figure.Figure at 0x30023f28>"
      ]
     },
     "metadata": {},
     "output_type": "display_data"
    }
   ],
   "source": [
    "k = len(timings_best)\n",
    "iter_xyf = [item for sublist in zip([dims]*k,\n",
    "                                    timings_best.values(),\n",
    "                                    list('rgb'))\\\n",
    "                                for item in sublist]\n",
    "\n",
    "plt.figure(figsize=(10, 8))\n",
    "plt.semilogy(*iter_xyf)\n",
    "\n",
    "plt.legend(timings_best.keys(), loc=2, frameon=False)\n",
    "plt.title('Benchmarking results - \"one-liner\"', y=1.03)\n",
    "plt.xlabel('Matrix dimension size')\n",
    "plt.ylabel('Time, s')"
   ]
  },
  {
   "cell_type": "markdown",
   "metadata": {
    "slideshow": {
     "slide_type": "subslide"
    }
   },
   "source": [
    "Even simpler way - also gives you granular control on plot objects"
   ]
  },
  {
   "cell_type": "code",
   "execution_count": 598,
   "metadata": {
    "collapsed": false,
    "slideshow": {
     "slide_type": "-"
    }
   },
   "outputs": [
    {
     "data": {
      "image/png": "[encoded data removed]",
      "text/plain": [
       "<matplotlib.figure.Figure at 0x2dec4fd0>"
      ]
     },
     "metadata": {},
     "output_type": "display_data"
    }
   ],
   "source": [
    "plt.figure(figsize=(10, 8))\n",
    "\n",
    "figs = [plt.semilogy(dims, values, label=bench_name)\\\n",
    "        for bench_name, values in timings.iteritems()];\n",
    "\n",
    "ax0, = figs[0]\n",
    "ax0.set_dashes([5, 10, 20, 10, 5, 10])\n",
    "\n",
    "ax1, = figs[1]\n",
    "ax1.set_marker('s')\n",
    "ax1.set_markerfacecolor('r')\n",
    "\n",
    "ax2, = figs[2]\n",
    "ax2.set_linewidth(6)\n",
    "ax2.set_alpha(0.3)\n",
    "ax2.set_color('m')"
   ]
  },
  {
   "cell_type": "markdown",
   "metadata": {
    "slideshow": {
     "slide_type": "subslide"
    }
   },
   "source": [
    "## Plot formatting"
   ]
  },
  {
   "cell_type": "markdown",
   "metadata": {},
   "source": [
    "matplotlib has a number of different options for styling your plot"
   ]
  },
  {
   "cell_type": "code",
   "execution_count": 599,
   "metadata": {
    "collapsed": true,
    "slideshow": {
     "slide_type": "-"
    }
   },
   "outputs": [],
   "source": [
    "all_markers = [\n",
    "'.', # point\n",
    "',', # pixel\n",
    "'o', # circle\n",
    "'v', # triangle down\n",
    "'^', # triangle up\n",
    "'<', # triangle_left\n",
    "'>', # triangle_right\n",
    "'1', # tri_down\n",
    "'2', # tri_up\n",
    "'3', # tri_left\n",
    "'4', # tri_right\n",
    "'8', # octagon\n",
    "'s', # square\n",
    "'p', # pentagon\n",
    "'*', # star\n",
    "'h', # hexagon1\n",
    "'H', # hexagon2\n",
    "'+', # plus\n",
    "'x', # x\n",
    "'D', # diamond\n",
    "'d', # thin_diamond\n",
    "'|', # vline\n",
    "]\n",
    "\n",
    "all_linestyles = [\n",
    "'-',  # solid line style\n",
    "'--', # dashed line style\n",
    "'-.', # dash-dot line style\n",
    "':',  # dotted line style\n",
    "'None'# no line\n",
    "]\n",
    "\n",
    "all_colors = [\n",
    "'b', # blue\n",
    "'g', # green\n",
    "'r', # red\n",
    "'c', # cyan\n",
    "'m', # magenta\n",
    "'y', # yellow\n",
    "'k', # black\n",
    "'w', # white\n",
    "]"
   ]
  },
  {
   "cell_type": "markdown",
   "metadata": {
    "slideshow": {
     "slide_type": "subslide"
    }
   },
   "source": [
    "## Subplots"
   ]
  },
  {
   "cell_type": "markdown",
   "metadata": {},
   "source": [
    "for advanced usage of subplots start here\n",
    "* http://matplotlib.org/examples/pylab_examples/subplots_demo.html\n",
    "* http://matplotlib.org/users/tight_layout_guide.html\n",
    "* http://matplotlib.org/users/gridspec.html"
   ]
  },
  {
   "cell_type": "markdown",
   "metadata": {
    "slideshow": {
     "slide_type": "subslide"
    }
   },
   "source": [
    "### Iterating over subplots"
   ]
  },
  {
   "cell_type": "code",
   "execution_count": 622,
   "metadata": {
    "collapsed": false,
    "format": "tab",
    "slideshow": {
     "slide_type": "-"
    }
   },
   "outputs": [
    {
     "data": {
      "text/plain": [
       "<matplotlib.text.Text at 0x581efb38>"
      ]
     },
     "execution_count": 622,
     "metadata": {},
     "output_type": "execute_result"
    },
    {
     "data": {
      "image/png": "[encoded data removed]",
      "text/plain": [
       "<matplotlib.figure.Figure at 0x57edec50>"
      ]
     },
     "metadata": {},
     "output_type": "display_data"
    }
   ],
   "source": [
    "n = len(timings)\n",
    "experiment_names = timings.keys()\n",
    "\n",
    "fig, axes = plt.subplots(1, n, sharey=True, figsize=(16,4))\n",
    "\n",
    "colors = np.random.choice(list('rgbcmyk'), n, replace=False)\n",
    "markers = np.random.choice(all_markers, n, replace=False)\n",
    "lines = np.random.choice(all_linestyles, n, replace=False)\n",
    "\n",
    "for ax_num, ax in enumerate(axes):\n",
    "    key = experiment_names[ax_num]\n",
    "    ax.semilogy(dims, timings[key], label=key,\n",
    "            color=colors[ax_num],\n",
    "            marker=markers[ax_num],\n",
    "            markersize=8,\n",
    "            linestyle=lines[ax_num],\n",
    "            lw=3)\n",
    "    ax.set_xlabel('matrix dimension')\n",
    "    ax.set_title(key)\n",
    "\n",
    "axes[0].set_ylabel('Time, s')\n",
    "plt.suptitle('Benchmarking results', fontsize=16,  y=1.03)\n"
   ]
  },
  {
   "cell_type": "markdown",
   "metadata": {
    "slideshow": {
     "slide_type": "subslide"
    }
   },
   "source": [
    "### Manual control of subplots"
   ]
  },
  {
   "cell_type": "code",
   "execution_count": 601,
   "metadata": {
    "collapsed": false
   },
   "outputs": [
    {
     "data": {
      "text/plain": [
       "[<matplotlib.lines.Line2D at 0x2ef6ac88>]"
      ]
     },
     "execution_count": 601,
     "metadata": {},
     "output_type": "execute_result"
    },
    {
     "data": {
      "image/png": "[encoded data removed]",
      "text/plain": [
       "<matplotlib.figure.Figure at 0x30023748>"
      ]
     },
     "metadata": {},
     "output_type": "display_data"
    }
   ],
   "source": [
    "plt.figure()\n",
    "plt.subplot(211)\n",
    "plt.plot([1,2,3])\n",
    "\n",
    "plt.subplot(212)\n",
    "plt.plot([2,5,4])"
   ]
  },
  {
   "cell_type": "markdown",
   "metadata": {
    "slideshow": {
     "slide_type": "subslide"
    }
   },
   "source": [
    "**Task**: create subplot with 2 columns and 2 rows. Leave bottom left quarter empty. Scipy and numpy benchmarks should go into top row."
   ]
  },
  {
   "cell_type": "markdown",
   "metadata": {
    "slideshow": {
     "slide_type": "slide"
    }
   },
   "source": [
    "# Другие темы\n",
    "\n",
    "- Функции-обёртки и декораторы\n",
    "\n",
    "- Установка пакетов\n",
    "\n",
    "- Импортирование модулей\n",
    "\n",
    "- Магия Jupyter\n",
    "\n",
    "- Qtconsole\n",
    "\n",
    "- Окружения\n",
    "\n",
    "- Расширения\n",
    "\n",
    "- Профилирование\n",
    "\n",
    "- Отладка\n",
    "\n",
    "- Cython & Numba\n",
    "\n",
    "- Openmp\n",
    "\n",
    "- OOP\n",
    "\n",
    "- Python 2 vs Python 3\n",
    "\n",
    "- plotting in python - palletes and colormaps, styles\n",
    "\n",
    "- Pandas - представление результатов\n",
    "\n",
    "- Конфигурация Jupyter\n",
    "\n",
    "- etc..."
   ]
  },
  {
   "cell_type": "markdown",
   "metadata": {
    "collapsed": true,
    "slideshow": {
     "slide_type": "notes"
    }
   },
   "source": [
    "# Solutions"
   ]
  },
  {
   "cell_type": "markdown",
   "metadata": {
    "slideshow": {
     "slide_type": "notes"
    }
   },
   "source": [
    "**Task 1**"
   ]
  },
  {
   "cell_type": "code",
   "execution_count": 602,
   "metadata": {
    "collapsed": true,
    "slideshow": {
     "slide_type": "notes"
    }
   },
   "outputs": [],
   "source": [
    "items = ['foo', 'bar', 'baz', 'foo', 'baz', 'bar']"
   ]
  },
  {
   "cell_type": "markdown",
   "metadata": {},
   "source": [
    "method 1"
   ]
  },
  {
   "cell_type": "code",
   "execution_count": 603,
   "metadata": {
    "collapsed": false,
    "slideshow": {
     "slide_type": "notes"
    }
   },
   "outputs": [
    {
     "data": {
      "text/plain": [
       "[0, 1, 2, 0, 2, 1]"
      ]
     },
     "execution_count": 603,
     "metadata": {},
     "output_type": "execute_result"
    }
   ],
   "source": [
    "from collections import defaultdict\n",
    "\n",
    "item_ids = defaultdict(lambda: len(item_ids))\n",
    "map(item_ids.__getitem__, items)"
   ]
  },
  {
   "cell_type": "markdown",
   "metadata": {},
   "source": [
    "method 2"
   ]
  },
  {
   "cell_type": "code",
   "execution_count": 604,
   "metadata": {
    "collapsed": false,
    "slideshow": {
     "slide_type": "notes"
    }
   },
   "outputs": [
    {
     "data": {
      "text/plain": [
       "array([0, 1, 2, 0, 2, 1], dtype=int64)"
      ]
     },
     "execution_count": 604,
     "metadata": {},
     "output_type": "execute_result"
    }
   ],
   "source": [
    "import pandas as pd\n",
    "\n",
    "pd.DataFrame({'items': items}).groupby('items', sort=False).grouper.group_info[0]"
   ]
  },
  {
   "cell_type": "markdown",
   "metadata": {},
   "source": [
    "method 3"
   ]
  },
  {
   "cell_type": "code",
   "execution_count": 605,
   "metadata": {
    "collapsed": false,
    "slideshow": {
     "slide_type": "notes"
    }
   },
   "outputs": [
    {
     "data": {
      "text/plain": [
       "array([2, 0, 1, 2, 1, 0])"
      ]
     },
     "execution_count": 605,
     "metadata": {},
     "output_type": "execute_result"
    }
   ],
   "source": [
    "import numpy as np\n",
    "\n",
    "np.unique(items, return_inverse=True)[1]"
   ]
  },
  {
   "cell_type": "markdown",
   "metadata": {
    "collapsed": true
   },
   "source": [
    "method 4"
   ]
  },
  {
   "cell_type": "code",
   "execution_count": 606,
   "metadata": {
    "collapsed": false
   },
   "outputs": [
    {
     "data": {
      "text/plain": [
       "[0, 1, 2, 0, 2, 1]"
      ]
     },
     "execution_count": 606,
     "metadata": {},
     "output_type": "execute_result"
    }
   ],
   "source": [
    "last = 0\n",
    "counts = {}\n",
    "result = []\n",
    "for item in items:\n",
    "    try:\n",
    "        count = counts[item]\n",
    "    except KeyError:\n",
    "        counts[item] = count = last\n",
    "        last += 1\n",
    "    result.append(count)\n",
    "\n",
    "result"
   ]
  },
  {
   "cell_type": "markdown",
   "metadata": {
    "slideshow": {
     "slide_type": "notes"
    }
   },
   "source": [
    "**Task 2**"
   ]
  },
  {
   "cell_type": "code",
   "execution_count": 607,
   "metadata": {
    "collapsed": true,
    "slideshow": {
     "slide_type": "notes"
    }
   },
   "outputs": [],
   "source": [
    "N = 1000"
   ]
  },
  {
   "cell_type": "code",
   "execution_count": 608,
   "metadata": {
    "collapsed": false,
    "slideshow": {
     "slide_type": "notes"
    }
   },
   "outputs": [
    {
     "name": "stdout",
     "output_type": "stream",
     "text": [
      "10 loops, best of 3: 78.6 ms per loop\n"
     ]
    }
   ],
   "source": [
    "from itertools import permutations\n",
    "\n",
    "%timeit list(permutations(xrange(N), 2))"
   ]
  },
  {
   "cell_type": "markdown",
   "metadata": {
    "slideshow": {
     "slide_type": "notes"
    }
   },
   "source": [
    "Hankel matrix: $a_{ij} = a_{i-1, j+1}$"
   ]
  },
  {
   "cell_type": "code",
   "execution_count": 609,
   "metadata": {
    "collapsed": true,
    "slideshow": {
     "slide_type": "notes"
    }
   },
   "outputs": [],
   "source": [
    "import numpy as np\n",
    "from scipy.linalg import hankel\n",
    "\n",
    "def pairs_idx(n):\n",
    "    return np.vstack((np.repeat(xrange(n), n-1), hankel(xrange(1, n), xrange(-1, n-1)).ravel()))"
   ]
  },
  {
   "cell_type": "code",
   "execution_count": 610,
   "metadata": {
    "collapsed": false,
    "run_control": {
     "marked": false
    },
    "slideshow": {
     "slide_type": "notes"
    }
   },
   "outputs": [
    {
     "name": "stdout",
     "output_type": "stream",
     "text": [
      "100 loops, best of 3: 17.6 ms per loop\n"
     ]
    }
   ],
   "source": [
    "%timeit pairs_idx(N)"
   ]
  }
 ],
 "metadata": {
  "anaconda-cloud": {},
  "celltoolbar": "Slideshow",
  "kernelspec": {
   "display_name": "Python [default]",
   "language": "python",
   "name": "python2"
  },
  "language_info": {
   "codemirror_mode": {
    "name": "ipython",
    "version": 2
   },
   "file_extension": ".py",
   "mimetype": "text/x-python",
   "name": "python",
   "nbconvert_exporter": "python",
   "pygments_lexer": "ipython2",
   "version": "2.7.13"
  }
 },
 "nbformat": 4,
 "nbformat_minor": 0
}

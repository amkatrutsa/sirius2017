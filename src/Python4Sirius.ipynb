{
 "cells": [
  {
   "cell_type": "markdown",
   "metadata": {
    "slideshow": {
     "slide_type": "slide"
    }
   },
   "source": [
    "# Экспресс-курс по программированию на Python"
   ]
  },
  {
   "cell_type": "markdown",
   "metadata": {
    "slideshow": {
     "slide_type": "slide"
    }
   },
   "source": [
    "## Интересные факты\n",
    "\n",
    "- Разработка языка Python была начата в конце 1980-х годов сотрудником голландского института CWI Гвидо ван Россумом\n",
    "- Автор назвал язык в честь популярного британского комедийного телешоу 1970-х «Летающий цирк Монти Пайтона»\n",
    "- Динамическая типизация\n",
    "- Python используется:\n",
    "    - Dropbox написан на Python\n",
    "    - Google: на Python написан YouTube и YouTube API и не только...\n",
    "    - Facebook\n",
    "    - SciPy стек заменяет проприетарные системы (MATLAB, Mathemathica) для научных вычислений\n",
    "    - scikit-learn - самая популярная библиотека алгоритмов машинного обучения\n",
    "    - Web-разработка"
   ]
  },
  {
   "cell_type": "markdown",
   "metadata": {
    "slideshow": {
     "slide_type": "slide"
    }
   },
   "source": [
    "## Где искать информацию? \n",
    "\n",
    "Конкретнее, чем в абстрактном \"Интернете\" или \"Google'e\":\n",
    "\n",
    "* Автостопом по Python'у:\n",
    "http://docs.python-guide.org/en/latest/\n",
    "\n",
    "* Сложный путь - проще: http://learnpythonthehardway.org\n",
    "\n",
    "* Python-курс от Google:\n",
    "https://developers.google.com/edu/python/\n",
    "\n",
    "* Официальный учебник:\n",
    "https://docs.python.org/2/tutorial/\n",
    "\n",
    "* Python Tutor - визуализация кода (разработано в MIT):\n",
    "http://pythontutor.com/\n",
    "\n",
    "* Если Вы растерялись и не понимаете, что происходит: https://www.codecademy.com/en/tracks/python"
   ]
  },
  {
   "cell_type": "markdown",
   "metadata": {
    "slideshow": {
     "slide_type": "slide"
    }
   },
   "source": [
    "### Материалы для углублённого изучения\n",
    "\n",
    "* Al Sweigart, \"Automate the Boring Stuff with Python\", https://automatetheboringstuff.com\n",
    "* Mark Lutz, \"Python Pocket Reference\" (250 pages)\n",
    "* Mark Lutz, \"Learning Python\" (1600 pages!)"
   ]
  },
  {
   "cell_type": "markdown",
   "metadata": {
    "slideshow": {
     "slide_type": "slide"
    }
   },
   "source": [
    "# Tasks for those who \"feel like a pro\":"
   ]
  },
  {
   "cell_type": "markdown",
   "metadata": {
    "slideshow": {
     "slide_type": "subslide"
    }
   },
   "source": [
    "**TASK 1**\n",
    "\n",
    "Write the code to enumerate items in the list:\n",
    "* items are not ordered\n",
    "* items are not unique\n",
    "* **don't use loops**\n",
    "* **try to be as short as possible** (not considering import statements)\n",
    "\n",
    "Example:\n",
    "\n",
    "*Input*\n",
    "```\n",
    "items = ['foo', 'bar', 'baz', 'foo', 'baz', 'bar']\n",
    "\n",
    "```"
   ]
  },
  {
   "cell_type": "markdown",
   "metadata": {
    "slideshow": {
     "slide_type": "subslide"
    }
   },
   "source": [
    "*Output*\n",
    "```\n",
    "#something like:\n",
    "[0, 1, 2, 0, 2, 1]\n",
    "\n",
    "```"
   ]
  },
  {
   "cell_type": "markdown",
   "metadata": {
    "slideshow": {
     "slide_type": "subslide"
    }
   },
   "source": [
    "**TASK 2**\n",
    "\n",
    "For each element in a list ```[0, 1, 2, ..., N]``` build all possible pairs with other elements of that list.\n",
    "\n",
    "* exclude \"self-pairing\" (e.g. 0-0, 1-1, 2-2)\n",
    "* **don't use loops**\n",
    "* **try to be as short as possible**   (not considering import statements)\n",
    "\n",
    "Example:\n",
    "\n",
    "*Input:*\n",
    "```\n",
    "[0, 1, 2, 3] or just 4\n",
    "```"
   ]
  },
  {
   "cell_type": "markdown",
   "metadata": {
    "slideshow": {
     "slide_type": "subslide"
    }
   },
   "source": [
    "*Output:*\n",
    "```\n",
    "0, 0, 0, 1, 1, 1, 2, 2, 2, 3, 3, 3\n",
    "\n",
    "1, 2, 3, 0, 2, 3, 0, 1, 3, 0, 1, 2\n",
    "```"
   ]
  },
  {
   "cell_type": "markdown",
   "metadata": {
    "slideshow": {
     "slide_type": "slide"
    }
   },
   "source": [
    "## Философия Pуthon'a\n",
    "\n",
    "- Красивое лучше, чем уродливое.\n",
    "- Явное лучше, чем неявное.\n",
    "- Простое лучше, чем сложное.\n",
    "- Сложное лучше, чем запутанное.\n",
    "- Плоское лучше, чем вложенное.\n",
    "- Разреженное лучше, чем плотное.\n",
    "- Читаемость имеет значение.\n",
    "- Особые случаи не настолько особые, чтобы нарушать правила.\n",
    "- При этом практичность важнее безупречности.\n",
    "- Ошибки никогда не должны замалчиваться.\n",
    "- Если не замалчиваются явно.\n",
    "- Встретив двусмысленность, отбрось искушение угадать.\n",
    "- Должен существовать один — и, желательно, только один — очевидный способ сделать это.\n",
    "- Хотя он поначалу может быть и не очевиден, если вы не голландец.\n",
    "- Сейчас лучше, чем никогда.\n",
    "- Хотя никогда зачастую лучше, чем прямо сейчас.\n",
    "- Если реализацию сложно объяснить — идея плоха.\n",
    "- Если реализацию легко объяснить — идея, возможно, хороша.\n",
    "- Пространства имён — отличная штука! Будем делать их побольше!\n",
    "\n",
    "Английский вариант можно получить набрав в интерпретаторе\n",
    "```python\n",
    "import this\n",
    "```\n",
    "Работает один раз в сессию."
   ]
  },
  {
   "cell_type": "markdown",
   "metadata": {
    "slideshow": {
     "slide_type": "slide"
    }
   },
   "source": [
    "## Принципы написания кода\n",
    "\n",
    "- Прежде всего код должен быть читаем!\n",
    "    - Другому человеку должно быть просто понять, что делает код\n",
    "    - Имена переменных, функций и классов должны быть осмысленными\n",
    "    - Стиль написания должен быть единообразным: форматирование, пробелы, etc\n",
    "\n",
    "- Соглашения по стилю (Style giudes):\n",
    "    - PEP8 (PEP = Python Enhancement Proposal) http://legacy.python.org/dev/peps/pep-0008/\n",
    "    - пишите идиоматический код http://python.net/~goodger/projects/pycon/2007/idiomatic/handout.html"
   ]
  },
  {
   "cell_type": "markdown",
   "metadata": {
    "slideshow": {
     "slide_type": "slide"
    }
   },
   "source": [
    "## Как НЕ надо писать код\n",
    "\n",
    "- Итерации по словарю:\n",
    "http://docs.quantifiedcode.com/python-anti-patterns/performance/index.html\n",
    "\n",
    "- Импортирование содержимого всего модуля:\n",
    "http://docs.quantifiedcode.com/python-anti-patterns/maintainability/from_module_import_all_used.html\n",
    "\n",
    "\n",
    "- Использование одной буквы для обозначения переменных (кроме быть может индексов):\n",
    "http://docs.quantifiedcode.com/python-anti-patterns/maintainability/using_single_letter_as_variable_name.html\n",
    "\n",
    "\n",
    "- НЕ следует сравнивать значение с ``None``\n",
    "при помощи оператора ``==`` : \n",
    "http://docs.quantifiedcode.com/python-anti-patterns/readability/comparison_to_none.html\n",
    "\n",
    "\n",
    "- НЕ следует сравнивать значение с ``True``\n",
    "при помощи оператора ``==`` : http://docs.quantifiedcode.com/python-anti-patterns/readability/comparison_to_true.html\n",
    "\n",
    "- НЕ следует сравнивать типы при помощи функции ``type()``: http://docs.quantifiedcode.com/python-anti-patterns/readability/do_not_compare_types_use_isinstance.html\n",
    "\n",
    "\n",
    "- Использование не-Python циклов: http://docs.quantifiedcode.com/python-anti-patterns/readability/using_an_unpythonic_loop.html\n",
    "\n",
    "\n",
    "- Использование \"верблюжьей\" нотации при определении функций: http://docs.quantifiedcode.com/python-anti-patterns/readability/using_camelcase_in_function_names.html"
   ]
  },
  {
   "cell_type": "markdown",
   "metadata": {
    "slideshow": {
     "slide_type": "slide"
    }
   },
   "source": [
    "## Основы Python\n",
    "\n",
    "Проверьте Вашу версию:\n",
    "```bash\n",
    "python --version\n",
    "```\n",
    "\n",
    "Этот курс использует Python 2"
   ]
  },
  {
   "cell_type": "markdown",
   "metadata": {
    "slideshow": {
     "slide_type": "slide"
    }
   },
   "source": [
    "### Базовые типы\n",
    "\n",
    "- Переменные\n",
    "- Строки\n",
    "- Контейнеры"
   ]
  },
  {
   "cell_type": "markdown",
   "metadata": {
    "slideshow": {
     "slide_type": "slide"
    }
   },
   "source": [
    "#### Переменные\n",
    "\n",
    "```python\n",
    "a = b = 3\n",
    "\n",
    "c, d = 4, 5\n",
    "\n",
    "c, d = d, c\n",
    "```"
   ]
  },
  {
   "cell_type": "markdown",
   "metadata": {
    "slideshow": {
     "slide_type": "slide"
    }
   },
   "source": [
    "#### Строки"
   ]
  },
  {
   "cell_type": "code",
   "execution_count": 458,
   "metadata": {
    "collapsed": false,
    "slideshow": {
     "slide_type": "slide"
    }
   },
   "outputs": [
    {
     "name": "stdout",
     "output_type": "stream",
     "text": [
      "Hello, John\n",
      "Hello, John\n"
     ]
    }
   ],
   "source": [
    "greeting = 'Hello'\n",
    "guest = \"John\"\n",
    "my_string = 'Hello \"John\"'\n",
    "named_greeting = 'Hello, {name}'.format(name=guest)\n",
    "\n",
    "named_greeting2 = '{}, {}'.format(greeting, guest)\n",
    "\n",
    "print named_greeting\n",
    "print named_greeting2"
   ]
  },
  {
   "cell_type": "markdown",
   "metadata": {},
   "source": [
    "### Контейнеры\n",
    "\n",
    "* список (list)\n",
    "* кортеж (tuple)\n",
    "* множество (set)\n",
    "* словарь (dictionary)\n",
    "\n",
    "Все детали в документации: https://docs.python.org/2/tutorial/datastructures.html"
   ]
  },
  {
   "cell_type": "markdown",
   "metadata": {
    "slideshow": {
     "slide_type": "slide"
    }
   },
   "source": [
    "#### Список"
   ]
  },
  {
   "cell_type": "code",
   "execution_count": 1,
   "metadata": {
    "collapsed": false,
    "slideshow": {
     "slide_type": "slide"
    }
   },
   "outputs": [
    {
     "name": "stdout",
     "output_type": "stream",
     "text": [
      "[5, 6, 5, 5, 7, 9]\n"
     ]
    }
   ],
   "source": [
    "fruit_list = ['apple', 'orange', 'peach', 'mango', 'bananas', 'pineapple']\n",
    "\n",
    "name_length = [len(fruit) for fruit in fruit_list]\n",
    "print name_length"
   ]
  },
  {
   "cell_type": "code",
   "execution_count": null,
   "metadata": {
    "collapsed": true,
    "slideshow": {
     "slide_type": "slide"
    }
   },
   "outputs": [],
   "source": [
    "# Even better: fruit.startswith('p')\n",
    "name_with_p = [fruit for fruit in fruit_list if fruit[0]=='p']"
   ]
  },
  {
   "cell_type": "code",
   "execution_count": 5,
   "metadata": {
    "collapsed": false,
    "slideshow": {
     "slide_type": "slide"
    }
   },
   "outputs": [
    {
     "data": {
      "text/plain": [
       "['0.apple', '1.orange', '2.peach', '3.mango', '4.bananas', '5.pineapple']"
      ]
     },
     "execution_count": 5,
     "metadata": {},
     "output_type": "execute_result"
    }
   ],
   "source": [
    "numbered_fruits = []\n",
    "\n",
    "for i, fruit in enumerate(fruit_list):\n",
    "    numbered_fruits.append('{}.{}'.format(i, fruit))\n",
    "    \n",
    "numbered_fruits"
   ]
  },
  {
   "cell_type": "markdown",
   "metadata": {
    "slideshow": {
     "slide_type": "slide"
    }
   },
   "source": [
    "- Индексация начинается с 0\n",
    "- Общее правило индексирования:\n",
    "```python\n",
    "l[start:stop:step]\n",
    "```"
   ]
  },
  {
   "cell_type": "code",
   "execution_count": 6,
   "metadata": {
    "collapsed": false,
    "slideshow": {
     "slide_type": "slide"
    }
   },
   "outputs": [],
   "source": [
    "numbered_fruits[0] = None"
   ]
  },
  {
   "cell_type": "code",
   "execution_count": 7,
   "metadata": {
    "collapsed": false,
    "slideshow": {
     "slide_type": "slide"
    }
   },
   "outputs": [
    {
     "data": {
      "text/plain": [
       "['1.orange', '2.peach', '3.mango']"
      ]
     },
     "execution_count": 7,
     "metadata": {},
     "output_type": "execute_result"
    }
   ],
   "source": [
    "numbered_fruits[1:4]"
   ]
  },
  {
   "cell_type": "code",
   "execution_count": 8,
   "metadata": {
    "collapsed": false,
    "slideshow": {
     "slide_type": "slide"
    }
   },
   "outputs": [
    {
     "data": {
      "text/plain": [
       "['1.orange', '3.mango']"
      ]
     },
     "execution_count": 8,
     "metadata": {},
     "output_type": "execute_result"
    }
   ],
   "source": [
    "numbered_fruits[1:-1:2]"
   ]
  },
  {
   "cell_type": "code",
   "execution_count": 9,
   "metadata": {
    "collapsed": false,
    "slideshow": {
     "slide_type": "slide"
    }
   },
   "outputs": [
    {
     "data": {
      "text/plain": [
       "['5.pineapple', '4.bananas', '3.mango', '2.peach', '1.orange', None]"
      ]
     },
     "execution_count": 9,
     "metadata": {},
     "output_type": "execute_result"
    }
   ],
   "source": [
    "numbered_fruits[::-1]"
   ]
  },
  {
   "cell_type": "markdown",
   "metadata": {
    "slideshow": {
     "slide_type": "slide"
    }
   },
   "source": [
    "### Кортеж - неизменяемый тип!"
   ]
  },
  {
   "cell_type": "code",
   "execution_count": 10,
   "metadata": {
    "collapsed": false,
    "slideshow": {
     "slide_type": "slide"
    }
   },
   "outputs": [
    {
     "ename": "TypeError",
     "evalue": "'tuple' object does not support item assignment",
     "output_type": "error",
     "traceback": [
      "\u001b[0;31m---------------------------------------------------------------------------\u001b[0m",
      "\u001b[0;31mTypeError\u001b[0m                                 Traceback (most recent call last)",
      "\u001b[0;32m<ipython-input-10-a967184828ef>\u001b[0m in \u001b[0;36m<module>\u001b[0;34m()\u001b[0m\n\u001b[1;32m      1\u001b[0m \u001b[0mp_fruits\u001b[0m \u001b[0;34m=\u001b[0m \u001b[0;34m(\u001b[0m\u001b[0mname_with_p\u001b[0m\u001b[0;34m[\u001b[0m\u001b[0;36m1\u001b[0m\u001b[0;34m]\u001b[0m\u001b[0;34m,\u001b[0m \u001b[0mname_with_p\u001b[0m\u001b[0;34m[\u001b[0m\u001b[0;36m0\u001b[0m\u001b[0;34m]\u001b[0m\u001b[0;34m)\u001b[0m\u001b[0;34m\u001b[0m\u001b[0m\n\u001b[0;32m----> 2\u001b[0;31m \u001b[0mp_fruits\u001b[0m\u001b[0;34m[\u001b[0m\u001b[0;36m1\u001b[0m\u001b[0;34m]\u001b[0m \u001b[0;34m=\u001b[0m \u001b[0;34m'mango'\u001b[0m\u001b[0;34m\u001b[0m\u001b[0m\n\u001b[0m",
      "\u001b[0;31mTypeError\u001b[0m: 'tuple' object does not support item assignment"
     ]
    }
   ],
   "source": [
    "p_fruits = (name_with_p[1], name_with_p[0])\n",
    "p_fruits[1] = 'mango'"
   ]
  },
  {
   "cell_type": "code",
   "execution_count": 11,
   "metadata": {
    "collapsed": false,
    "slideshow": {
     "slide_type": "slide"
    }
   },
   "outputs": [
    {
     "data": {
      "text/plain": [
       "(3,)"
      ]
     },
     "execution_count": 11,
     "metadata": {},
     "output_type": "execute_result"
    }
   ],
   "source": [
    "single_number_tuple = 3,\n",
    "single_number_tuple"
   ]
  },
  {
   "cell_type": "code",
   "execution_count": 12,
   "metadata": {
    "collapsed": false,
    "slideshow": {
     "slide_type": "slide"
    }
   },
   "outputs": [
    {
     "data": {
      "text/plain": [
       "(3, 2, 1, 0)"
      ]
     },
     "execution_count": 12,
     "metadata": {},
     "output_type": "execute_result"
    }
   ],
   "source": [
    "single_number_tuple + (2,) + (1, 0)"
   ]
  },
  {
   "cell_type": "markdown",
   "metadata": {
    "slideshow": {
     "slide_type": "slide"
    }
   },
   "source": [
    "### Множество - неизменяемый тип, хранит только уникальные элементы"
   ]
  },
  {
   "cell_type": "code",
   "execution_count": 13,
   "metadata": {
    "collapsed": false,
    "slideshow": {
     "slide_type": "slide"
    }
   },
   "outputs": [
    {
     "data": {
      "text/plain": [
       "{0, 1, 2, 3}"
      ]
     },
     "execution_count": 13,
     "metadata": {},
     "output_type": "execute_result"
    }
   ],
   "source": [
    "set([0, 1, 2, 1, 1, 1, 3])"
   ]
  },
  {
   "cell_type": "markdown",
   "metadata": {
    "slideshow": {
     "slide_type": "slide"
    }
   },
   "source": [
    "### Словарь"
   ]
  },
  {
   "cell_type": "code",
   "execution_count": 14,
   "metadata": {
    "collapsed": false,
    "slideshow": {
     "slide_type": "slide"
    }
   },
   "outputs": [
    {
     "data": {
      "text/plain": [
       "{'apple': 3, 'banana': 3, 'mango': 2, 'orange': 5, 'pineapple': 4}"
      ]
     },
     "execution_count": 14,
     "metadata": {},
     "output_type": "execute_result"
    }
   ],
   "source": [
    "fruit_list = ['apple', 'orange', 'mango', 'banana', 'pineapple']\n",
    "quantities = [3, 5, 2, 3, 4]\n",
    "\n",
    "order_fruits = {fruit: num \\\n",
    "                for fruit, num in zip(fruit_list, quantities)}\n",
    "order_fruits"
   ]
  },
  {
   "cell_type": "code",
   "execution_count": 15,
   "metadata": {
    "collapsed": false,
    "slideshow": {
     "slide_type": "slide"
    }
   },
   "outputs": [
    {
     "data": {
      "text/plain": [
       "{'apple': 3, 'banana': 3, 'mango': 2, 'orange': 5, 'pineapple': 2}"
      ]
     },
     "execution_count": 15,
     "metadata": {},
     "output_type": "execute_result"
    }
   ],
   "source": [
    "order_fruits['pineapple'] = 2\n",
    "order_fruits"
   ]
  },
  {
   "cell_type": "code",
   "execution_count": 16,
   "metadata": {
    "collapsed": false,
    "slideshow": {
     "slide_type": "slide"
    }
   },
   "outputs": [
    {
     "name": "stdout",
     "output_type": "stream",
     "text": [
      "['orange', 'mango', 'pineapple', 'apple', 'banana']\n",
      "[5, 2, 2, 3, 3]\n"
     ]
    }
   ],
   "source": [
    "print order_fruits.keys()\n",
    "print order_fruits.values()"
   ]
  },
  {
   "cell_type": "code",
   "execution_count": 17,
   "metadata": {
    "collapsed": false,
    "slideshow": {
     "slide_type": "slide"
    }
   },
   "outputs": [
    {
     "name": "stdout",
     "output_type": "stream",
     "text": [
      "Buy 5 oranges\n",
      "Buy 2 mangos\n",
      "Buy 2 pineapples\n",
      "Buy 3 apples\n",
      "Buy 3 bananas\n"
     ]
    }
   ],
   "source": [
    "for fruit, amount in order_fruits.iteritems():\n",
    "    print 'Buy {num} {entity}s'.format(num=amount, entity=fruit)"
   ]
  },
  {
   "cell_type": "markdown",
   "metadata": {
    "slideshow": {
     "slide_type": "slide"
    }
   },
   "source": [
    "## Функции\n",
    "\n",
    "- Участки кода, которые многократно используются принято оборачивать в функции\n",
    "- Функции - это такие же объекты, как переменные, контейнеры, классы и прочее в языке"
   ]
  },
  {
   "cell_type": "markdown",
   "metadata": {
    "slideshow": {
     "slide_type": "slide"
    }
   },
   "source": [
    "### Общий шаблон"
   ]
  },
  {
   "cell_type": "code",
   "execution_count": 18,
   "metadata": {
    "collapsed": false,
    "slideshow": {
     "slide_type": "slide"
    }
   },
   "outputs": [],
   "source": [
    "def my_func(var1, var2, default_var1=0, default_var2 = False, *args, **kwargs):\n",
    "    \"\"\"\n",
    "    This is a generic example of python a function.\n",
    "    You can see this string when do call: my_func?\n",
    "    \"\"\"\n",
    "    #do something with vars\n",
    "    if not default_var2:\n",
    "        result = var1\n",
    "    elif default_var1 == 0:\n",
    "        result = var1\n",
    "    else:\n",
    "        result = var1 + var2\n",
    "    return result"
   ]
  },
  {
   "cell_type": "code",
   "execution_count": 19,
   "metadata": {
    "collapsed": false,
    "slideshow": {
     "slide_type": "slide"
    }
   },
   "outputs": [
    {
     "name": "stdout",
     "output_type": "stream",
     "text": [
      "Function my_func has the following docstring:\n",
      "\n",
      "    This is a generic example of python a function.\n",
      "    You can see this string when do call: my_func?\n",
      "    \n"
     ]
    }
   ],
   "source": [
    "print 'Function {} has the following docstring:\\n{}'\\\n",
    "        .format(my_func.func_name, my_func.func_doc)"
   ]
  },
  {
   "cell_type": "markdown",
   "metadata": {
    "slideshow": {
     "slide_type": "slide"
    }
   },
   "source": [
    "#### Как правильно писать документацию?\n",
    "\n",
    "https://github.com/numpy/numpy/blob/master/doc/HOWTO_DOCUMENT.rst.txt#docstring-standard"
   ]
  },
  {
   "cell_type": "markdown",
   "metadata": {
    "slideshow": {
     "slide_type": "slide"
    }
   },
   "source": [
    "### Функция может быть аргументом"
   ]
  },
  {
   "cell_type": "code",
   "execution_count": 20,
   "metadata": {
    "collapsed": true,
    "slideshow": {
     "slide_type": "slide"
    }
   },
   "outputs": [],
   "source": [
    "def function_over_function(func, *args, **kwargs):\n",
    "    function_result = func(*args, **kwargs)\n",
    "    return function_result"
   ]
  },
  {
   "cell_type": "code",
   "execution_count": 21,
   "metadata": {
    "collapsed": false,
    "slideshow": {
     "slide_type": "slide"
    }
   },
   "outputs": [
    {
     "data": {
      "text/plain": [
       "8"
      ]
     },
     "execution_count": 21,
     "metadata": {},
     "output_type": "execute_result"
    }
   ],
   "source": [
    "function_over_function(my_func, 3, 5, default_var1=1, default_var2=True)"
   ]
  },
  {
   "cell_type": "markdown",
   "metadata": {
    "slideshow": {
     "slide_type": "slide"
    }
   },
   "source": [
    "### Анонимные или лямбда-функции"
   ]
  },
  {
   "cell_type": "code",
   "execution_count": 22,
   "metadata": {
    "collapsed": false,
    "slideshow": {
     "slide_type": "slide"
    }
   },
   "outputs": [
    {
     "data": {
      "text/plain": [
       "15"
      ]
     },
     "execution_count": 22,
     "metadata": {},
     "output_type": "execute_result"
    }
   ],
   "source": [
    "function_over_function(lambda x, y, factor=10: (x+y)*factor, 1, 2, 5)"
   ]
  },
  {
   "cell_type": "markdown",
   "metadata": {
    "slideshow": {
     "slide_type": "slide"
    }
   },
   "source": [
    "НЕ присваивайте анонимные функции переменным! Используйте \"именные\" функции!\n",
    "\n",
    "```python\n",
    "my_simple_func = lambda x: x+1\n",
    "```\n",
    "vs\n",
    "```python\n",
    "def my_simple_func(x):\n",
    "    return x + 1\n",
    "```"
   ]
  },
  {
   "cell_type": "markdown",
   "metadata": {
    "slideshow": {
     "slide_type": "slide"
    }
   },
   "source": [
    "## Заключение по общей части\n",
    "\n",
    "- Python - интерпретируемый язык для быстрой разработки\n",
    "- Python имеет богатую стандартную библиотеку функций и контейнеров\n",
    "- Python поддерживает различные парадигмы программирования: императивна, процедурная, объектно-ориентированная, функциональная и тд.\n",
    "- Python используется в различных приложениях от научных вычислений до Web-разработки"
   ]
  },
  {
   "cell_type": "markdown",
   "metadata": {
    "slideshow": {
     "slide_type": "slide"
    }
   },
   "source": [
    "# Numpy - scientific computing"
   ]
  },
  {
   "cell_type": "markdown",
   "metadata": {
    "slideshow": {
     "slide_type": "subslide"
    }
   },
   "source": [
    "## Building matrices and vectors"
   ]
  },
  {
   "cell_type": "code",
   "execution_count": 482,
   "metadata": {
    "collapsed": true
   },
   "outputs": [],
   "source": [
    "import numpy as np"
   ]
  },
  {
   "cell_type": "code",
   "execution_count": 483,
   "metadata": {
    "collapsed": false,
    "format": "column",
    "scrolled": false
   },
   "outputs": [
    {
     "name": "stdout",
     "output_type": "stream",
     "text": [
      "The matrix is\n",
      "[[1 3 4]\n",
      " [2 0 5]\n",
      " [4 4 1]\n",
      " [0 1 0]]\n",
      "\n",
      "the vector is\n",
      "[2 1 3]\n"
     ]
    }
   ],
   "source": [
    "matrix_from_list = np.array([[1, 3, 4],\n",
    "                             [2, 0, 5],\n",
    "                             [4, 4, 1],\n",
    "                             [0, 1, 0]])\n",
    "\n",
    "vector_from_list = np.array([2, 1, 3])\n",
    "\n",
    "print 'The matrix is\\n{matrix}\\n\\nthe vector is\\n{vector}'\\\n",
    "        .format(vector=vector_from_list, matrix=matrix_from_list)"
   ]
  },
  {
   "cell_type": "markdown",
   "metadata": {
    "slideshow": {
     "slide_type": "subslide"
    }
   },
   "source": [
    "## Basic manipulations"
   ]
  },
  {
   "cell_type": "markdown",
   "metadata": {
    "slideshow": {
     "slide_type": "-"
    }
   },
   "source": [
    "### matvec"
   ]
  },
  {
   "cell_type": "code",
   "execution_count": 484,
   "metadata": {
    "collapsed": false
   },
   "outputs": [
    {
     "data": {
      "text/plain": [
       "array([17, 19, 15,  1])"
      ]
     },
     "execution_count": 484,
     "metadata": {},
     "output_type": "execute_result"
    }
   ],
   "source": [
    "matrix_from_list.dot(vector_from_list)"
   ]
  },
  {
   "cell_type": "markdown",
   "metadata": {
    "slideshow": {
     "slide_type": "-"
    }
   },
   "source": [
    "### broadcasting"
   ]
  },
  {
   "cell_type": "code",
   "execution_count": 485,
   "metadata": {
    "collapsed": false
   },
   "outputs": [
    {
     "data": {
      "text/plain": [
       "array([[3, 4, 7],\n",
       "       [4, 1, 8],\n",
       "       [6, 5, 4],\n",
       "       [2, 2, 3]])"
      ]
     },
     "execution_count": 485,
     "metadata": {},
     "output_type": "execute_result"
    }
   ],
   "source": [
    "matrix_from_list + vector_from_list"
   ]
  },
  {
   "cell_type": "markdown",
   "metadata": {
    "slideshow": {
     "slide_type": "subslide"
    }
   },
   "source": [
    "### forcing dtype"
   ]
  },
  {
   "cell_type": "code",
   "execution_count": 486,
   "metadata": {
    "collapsed": false
   },
   "outputs": [
    {
     "data": {
      "text/plain": [
       "dtype('float32')"
      ]
     },
     "execution_count": 486,
     "metadata": {},
     "output_type": "execute_result"
    }
   ],
   "source": [
    "single_precision_vector = np.array([1, 3, 5, 2], dtype=np.float32)\n",
    "single_precision_vector.dtype"
   ]
  },
  {
   "cell_type": "markdown",
   "metadata": {},
   "source": [
    "### converting dtypes"
   ]
  },
  {
   "cell_type": "code",
   "execution_count": 487,
   "metadata": {
    "collapsed": false
   },
   "outputs": [
    {
     "data": {
      "text/plain": [
       "dtype('int32')"
      ]
     },
     "execution_count": 487,
     "metadata": {},
     "output_type": "execute_result"
    }
   ],
   "source": [
    "vector_from_list.dtype"
   ]
  },
  {
   "cell_type": "code",
   "execution_count": 488,
   "metadata": {
    "collapsed": false
   },
   "outputs": [
    {
     "data": {
      "text/plain": [
       "array([2, 1, 3], dtype=int16)"
      ]
     },
     "execution_count": 488,
     "metadata": {},
     "output_type": "execute_result"
    }
   ],
   "source": [
    "vector_from_list.astype(np.int16)"
   ]
  },
  {
   "cell_type": "markdown",
   "metadata": {
    "slideshow": {
     "slide_type": "subslide"
    }
   },
   "source": [
    "### shapes (singletons)"
   ]
  },
  {
   "cell_type": "markdown",
   "metadata": {
    "slideshow": {
     "slide_type": "-"
    }
   },
   "source": [
    "mind dimensionality!"
   ]
  },
  {
   "cell_type": "code",
   "execution_count": 550,
   "metadata": {
    "collapsed": false,
    "format": "column"
   },
   "outputs": [
    {
     "name": "stdout",
     "output_type": "stream",
     "text": [
      "New vector [[1 2 3]] has dimensionality (1L, 3L)\n",
      "The dot-product is: "
     ]
    },
    {
     "ename": "ValueError",
     "evalue": "shapes (4,3) and (1,3) not aligned: 3 (dim 1) != 1 (dim 0)",
     "output_type": "error",
     "traceback": [
      "\u001b[1;31m---------------------------------------------------------------------------\u001b[0m",
      "\u001b[1;31mValueError\u001b[0m                                Traceback (most recent call last)",
      "\u001b[1;32m<ipython-input-550-286bbd2b9667>\u001b[0m in \u001b[0;36m<module>\u001b[1;34m()\u001b[0m\n\u001b[0;32m      3\u001b[0m \u001b[1;32mprint\u001b[0m \u001b[1;34m'New vector {} has dimensionality {}'\u001b[0m        \u001b[1;33m.\u001b[0m\u001b[0mformat\u001b[0m\u001b[1;33m(\u001b[0m\u001b[0mrow_vector\u001b[0m\u001b[1;33m,\u001b[0m \u001b[0mrow_vector\u001b[0m\u001b[1;33m.\u001b[0m\u001b[0mshape\u001b[0m\u001b[1;33m)\u001b[0m\u001b[1;33m\u001b[0m\u001b[0m\n\u001b[0;32m      4\u001b[0m \u001b[1;33m\u001b[0m\u001b[0m\n\u001b[1;32m----> 5\u001b[1;33m \u001b[1;32mprint\u001b[0m \u001b[1;34m'The dot-product is: '\u001b[0m\u001b[1;33m,\u001b[0m \u001b[0mmatrix_from_list\u001b[0m\u001b[1;33m.\u001b[0m\u001b[0mdot\u001b[0m\u001b[1;33m(\u001b[0m\u001b[0mrow_vector\u001b[0m\u001b[1;33m)\u001b[0m\u001b[1;33m\u001b[0m\u001b[0m\n\u001b[0m",
      "\u001b[1;31mValueError\u001b[0m: shapes (4,3) and (1,3) not aligned: 3 (dim 1) != 1 (dim 0)"
     ]
    }
   ],
   "source": [
    "row_vector = np.array([[1,2,3]])\n",
    "\n",
    "print 'New vector {} has dimensionality {}'\\\n",
    "        .format(row_vector, row_vector.shape)\n",
    "\n",
    "print 'The dot-product is: ', matrix_from_list.dot(row_vector)"
   ]
  },
  {
   "cell_type": "code",
   "execution_count": 551,
   "metadata": {
    "collapsed": false
   },
   "outputs": [
    {
     "name": "stdout",
     "output_type": "stream",
     "text": [
      " Squeezed vector [1 2 3] has shape (3L,)\n"
     ]
    }
   ],
   "source": [
    "singleton_vector = row_vector.squeeze()\n",
    "print 'Squeezed vector {} has shape {}'.format(singleton_vector, singleton_vector.shape)"
   ]
  },
  {
   "cell_type": "code",
   "execution_count": 552,
   "metadata": {
    "collapsed": false
   },
   "outputs": [
    {
     "data": {
      "text/plain": [
       "array([19, 17, 15,  2])"
      ]
     },
     "execution_count": 552,
     "metadata": {},
     "output_type": "execute_result"
    }
   ],
   "source": [
    "matrix_from_list.dot(singleton_vector)"
   ]
  },
  {
   "cell_type": "markdown",
   "metadata": {
    "slideshow": {
     "slide_type": "subslide"
    }
   },
   "source": [
    "### adding new dimension"
   ]
  },
  {
   "cell_type": "code",
   "execution_count": 553,
   "metadata": {
    "collapsed": false
   },
   "outputs": [
    {
     "name": "stdout",
     "output_type": "stream",
     "text": [
      "[[1]\n",
      " [2]\n",
      " [3]]\n"
     ]
    }
   ],
   "source": [
    "print singleton_vector[:, np.newaxis]"
   ]
  },
  {
   "cell_type": "code",
   "execution_count": 554,
   "metadata": {
    "collapsed": false
   },
   "outputs": [
    {
     "data": {
      "text/plain": [
       "array([ 0,  1,  2,  3,  4,  5,  6,  7,  8,  9, 10, 11])"
      ]
     },
     "execution_count": 554,
     "metadata": {},
     "output_type": "execute_result"
    }
   ],
   "source": [
    "mat = np.arange(12)\n",
    "mat.reshape(-1, 4)\n",
    "mat"
   ]
  },
  {
   "cell_type": "code",
   "execution_count": 555,
   "metadata": {
    "collapsed": false
   },
   "outputs": [
    {
     "name": "stdout",
     "output_type": "stream",
     "text": [
      "[[1]\n",
      " [2]\n",
      " [3]]\n"
     ]
    }
   ],
   "source": [
    "print singleton_vector[:, None]"
   ]
  },
  {
   "cell_type": "markdown",
   "metadata": {
    "slideshow": {
     "slide_type": "subslide"
    }
   },
   "source": [
    "## Indexing, slicing"
   ]
  },
  {
   "cell_type": "code",
   "execution_count": 556,
   "metadata": {
    "collapsed": false
   },
   "outputs": [
    {
     "data": {
      "text/plain": [
       "array([ 0,  1,  2,  3,  4,  5,  6,  7,  8,  9, 10, 11])"
      ]
     },
     "execution_count": 556,
     "metadata": {},
     "output_type": "execute_result"
    }
   ],
   "source": [
    "vector12 = np.arange(12)\n",
    "vector12"
   ]
  },
  {
   "cell_type": "markdown",
   "metadata": {},
   "source": [
    "Guess what is the output:\n",
    "```python\n",
    "vector12[:3]\n",
    "vector12[-1]\n",
    "vector12[:-2]\n",
    "vector12[3:7]\n",
    "vector12[::2]\n",
    "vector12[::-1]\n",
    "```"
   ]
  },
  {
   "cell_type": "code",
   "execution_count": 557,
   "metadata": {
    "collapsed": false,
    "slideshow": {
     "slide_type": "subslide"
    }
   },
   "outputs": [
    {
     "data": {
      "text/plain": [
       "array([[ 0,  1,  2],\n",
       "       [ 3,  4,  5],\n",
       "       [ 6,  7,  8],\n",
       "       [ 9, 10, 11]])"
      ]
     },
     "execution_count": 557,
     "metadata": {},
     "output_type": "execute_result"
    }
   ],
   "source": [
    "matrix43 = vector12.reshape(4, 3)\n",
    "matrix43"
   ]
  },
  {
   "cell_type": "markdown",
   "metadata": {},
   "source": [
    "Guess what is the output:\n",
    "```python\n",
    "matrix43[:, 0]\n",
    "matrix43[-1, :]\n",
    "matrix43[::2, :]\n",
    "matrix43[:3, :-1]\n",
    "matrix43[3:, 1]\n",
    "```"
   ]
  },
  {
   "cell_type": "markdown",
   "metadata": {
    "slideshow": {
     "slide_type": "notes"
    }
   },
   "source": [
    "Unlike Matlab, numpy arrays are column-major (or C-major) by default, not row-major (or F-major)."
   ]
  },
  {
   "cell_type": "markdown",
   "metadata": {
    "slideshow": {
     "slide_type": "subslide"
    }
   },
   "source": [
    "## View vs Copy"
   ]
  },
  {
   "cell_type": "markdown",
   "metadata": {},
   "source": [
    "Working with views is more efficient and is a preferred way."
   ]
  },
  {
   "cell_type": "markdown",
   "metadata": {
    "collapsed": true
   },
   "source": [
    "view is returned whenever basic slicing is used\n",
    "\n",
    "more details at http://docs.scipy.org/doc/numpy/reference/arrays.indexing.html"
   ]
  },
  {
   "cell_type": "markdown",
   "metadata": {},
   "source": [
    "making copy is simple:"
   ]
  },
  {
   "cell_type": "code",
   "execution_count": 558,
   "metadata": {
    "collapsed": false
   },
   "outputs": [],
   "source": [
    "matrix43_copy = matrix43[:]"
   ]
  },
  {
   "cell_type": "markdown",
   "metadata": {
    "slideshow": {
     "slide_type": "subslide"
    }
   },
   "source": [
    "## Reshaping"
   ]
  },
  {
   "cell_type": "code",
   "execution_count": 559,
   "metadata": {
    "collapsed": false,
    "format": "row"
   },
   "outputs": [
    {
     "data": {
      "text/plain": [
       "array([[34, 93, 79, 92],\n",
       "       [39, 80, 92, 78],\n",
       "       [91, 67, 78, 73],\n",
       "       [90, 78, 51, 66],\n",
       "       [86, 29, 60, 30],\n",
       "       [88, 58, 10, 35]])"
      ]
     },
     "execution_count": 559,
     "metadata": {},
     "output_type": "execute_result"
    }
   ],
   "source": [
    "matrix_to_reshape = np.random.randint(10, 99, size=(6, 4))\n",
    "matrix_to_reshape"
   ]
  },
  {
   "cell_type": "code",
   "execution_count": 560,
   "metadata": {
    "collapsed": false,
    "format": "row"
   },
   "outputs": [
    {
     "data": {
      "text/plain": [
       "array([[34, 93, 79],\n",
       "       [92, 39, 80],\n",
       "       [92, 78, 91],\n",
       "       [67, 78, 73],\n",
       "       [90, 78, 51],\n",
       "       [66, 86, 29],\n",
       "       [60, 30, 88],\n",
       "       [58, 10, 35]])"
      ]
     },
     "execution_count": 560,
     "metadata": {},
     "output_type": "execute_result"
    }
   ],
   "source": [
    "reshaped_matrix = matrix_to_reshape.reshape(8, 3)\n",
    "reshaped_matrix"
   ]
  },
  {
   "cell_type": "markdown",
   "metadata": {
    "slideshow": {
     "slide_type": "subslide"
    }
   },
   "source": [
    "reshape always returns view!"
   ]
  },
  {
   "cell_type": "code",
   "execution_count": 561,
   "metadata": {
    "collapsed": false
   },
   "outputs": [],
   "source": [
    "reshaped_matrix[-1, 0] = 1"
   ]
  },
  {
   "cell_type": "code",
   "execution_count": 562,
   "metadata": {
    "collapsed": false,
    "slideshow": {
     "slide_type": "notes"
    }
   },
   "outputs": [],
   "source": [
    "np.set_printoptions(formatter={'all':lambda x: '_{}_'.format(x) if x < 10 else str(x)})"
   ]
  },
  {
   "cell_type": "code",
   "execution_count": 563,
   "metadata": {
    "collapsed": false,
    "format": "column"
   },
   "outputs": [
    {
     "data": {
      "text/plain": [
       "array([[34, 93, 79, 92],\n",
       "       [39, 80, 92, 78],\n",
       "       [91, 67, 78, 73],\n",
       "       [90, 78, 51, 66],\n",
       "       [86, 29, 60, 30],\n",
       "       [88, _1_, 10, 35]])"
      ]
     },
     "execution_count": 563,
     "metadata": {},
     "output_type": "execute_result"
    }
   ],
   "source": [
    "matrix_to_reshape[:]"
   ]
  },
  {
   "cell_type": "code",
   "execution_count": 564,
   "metadata": {
    "collapsed": false,
    "slideshow": {
     "slide_type": "notes"
    }
   },
   "outputs": [],
   "source": [
    "np.set_printoptions()"
   ]
  },
  {
   "cell_type": "markdown",
   "metadata": {
    "slideshow": {
     "slide_type": "subslide"
    }
   },
   "source": [
    "## Boolean indexing"
   ]
  },
  {
   "cell_type": "code",
   "execution_count": 565,
   "metadata": {
    "collapsed": false
   },
   "outputs": [
    {
     "data": {
      "text/plain": [
       "array([ 5,  6,  7,  8,  9, 10, 11])"
      ]
     },
     "execution_count": 565,
     "metadata": {},
     "output_type": "execute_result"
    }
   ],
   "source": [
    "idx = matrix43 > 4\n",
    "matrix43[idx]"
   ]
  },
  {
   "cell_type": "markdown",
   "metadata": {
    "slideshow": {
     "slide_type": "subslide"
    }
   },
   "source": [
    "## Useful numpy functions"
   ]
  },
  {
   "cell_type": "markdown",
   "metadata": {},
   "source": [
    "eye, ones, zeros, diag"
   ]
  },
  {
   "cell_type": "markdown",
   "metadata": {},
   "source": [
    "**Example:**\n",
    "Build three-diagonal matrix with -2's on main diagonal and 1's and subdiagonals\n",
    "\n",
    "Is this code valid?"
   ]
  },
  {
   "cell_type": "code",
   "execution_count": 566,
   "metadata": {
    "collapsed": false,
    "slideshow": {
     "slide_type": "-"
    }
   },
   "outputs": [
    {
     "name": "stdout",
     "output_type": "stream",
     "text": [
      "[[-2  1  0  0  0]\n",
      " [ 1 -2  1  0  0]\n",
      " [ 0  1 -2  1  0]\n",
      " [ 0  0  1 -2  1]\n",
      " [ 0  0  0  1 -2]]\n"
     ]
    }
   ],
   "source": [
    "def three_diagonal(N):\n",
    "    A = np.zeros((N, N), dtype=np.int)\n",
    "    for i in range(N):\n",
    "        A[i, i] = -2\n",
    "        if i > 0:\n",
    "            A[i, i-1] = 1\n",
    "        if i < N-1:\n",
    "            A[i, i+1] = 1\n",
    "    return A\n",
    "\n",
    "print three_diagonal(5)"
   ]
  },
  {
   "cell_type": "code",
   "execution_count": 567,
   "metadata": {
    "collapsed": false,
    "slideshow": {
     "slide_type": "subslide"
    }
   },
   "outputs": [
    {
     "data": {
      "text/plain": [
       "array([[-2,  1,  0,  0,  0],\n",
       "       [ 1, -2,  1,  0,  0],\n",
       "       [ 0,  1, -2,  1,  0],\n",
       "       [ 0,  0,  1, -2,  1],\n",
       "       [ 0,  0,  0,  1, -2]])"
      ]
     },
     "execution_count": 567,
     "metadata": {},
     "output_type": "execute_result"
    }
   ],
   "source": [
    "def numpy_three_diagonal(N):\n",
    "    main_diagonal = -2 * np.eye(N)\n",
    "    \n",
    "    suddiag_value = np.ones(N-1,)\n",
    "    lower_subdiag = np.diag(suddiag_value, k=-1)\n",
    "    upper_subdiag = np.diag(suddiag_value, k=1)\n",
    "    \n",
    "    result = main_diagonal + lower_subdiag + upper_subdiag\n",
    "    return result.astype(np.int)\n",
    "\n",
    "numpy_three_diagonal(5)"
   ]
  },
  {
   "cell_type": "markdown",
   "metadata": {
    "slideshow": {
     "slide_type": "subslide"
    }
   },
   "source": [
    "### reducers: sum, mean, max, min, all, any"
   ]
  },
  {
   "cell_type": "code",
   "execution_count": 568,
   "metadata": {
    "collapsed": false
   },
   "outputs": [
    {
     "name": "stdout",
     "output_type": "stream",
     "text": [
      "[[-2  1  0  0  5]\n",
      " [ 1 -2  1  0  0]\n",
      " [ 0  1 -2  1  0]\n",
      " [ 0  0  1 -2  1]\n",
      " [ 3  0  0  1 -2]]\n",
      "6\n",
      "-2\n",
      "[3 1 1 1 5]\n",
      "[2 0 0 0 4]\n",
      "[ 0.8  0.   0.   0.   0.4]\n",
      "[ True False False False False]\n"
     ]
    }
   ],
   "source": [
    "A = numpy_three_diagonal(5)\n",
    "A[0, -1] = 5\n",
    "A[-1, 0] = 3\n",
    "\n",
    "print A\n",
    "print A.sum()\n",
    "print A.min()\n",
    "print A.max(axis=0)\n",
    "print A.sum(axis=0)\n",
    "print A.mean(axis=1)\n",
    "print (A > 4).any(axis=1)"
   ]
  },
  {
   "cell_type": "markdown",
   "metadata": {
    "slideshow": {
     "slide_type": "subslide"
    }
   },
   "source": [
    "### numpy math functions"
   ]
  },
  {
   "cell_type": "code",
   "execution_count": 569,
   "metadata": {
    "collapsed": false
   },
   "outputs": [
    {
     "name": "stdout",
     "output_type": "stream",
     "text": [
      "3.14159265359\n"
     ]
    }
   ],
   "source": [
    "print np.pi"
   ]
  },
  {
   "cell_type": "code",
   "execution_count": 570,
   "metadata": {
    "collapsed": false
   },
   "outputs": [],
   "source": [
    "args = np.arange(0, 2.5*np.pi, 0.5*np.pi)"
   ]
  },
  {
   "cell_type": "code",
   "execution_count": 571,
   "metadata": {
    "collapsed": false
   },
   "outputs": [
    {
     "name": "stdout",
     "output_type": "stream",
     "text": [
      "[  0.00000000e+00   1.00000000e+00   1.22464680e-16  -1.00000000e+00\n",
      "  -2.44929360e-16]\n"
     ]
    }
   ],
   "source": [
    "print np.sin(args)"
   ]
  },
  {
   "cell_type": "code",
   "execution_count": 572,
   "metadata": {
    "collapsed": false
   },
   "outputs": [
    {
     "name": "stdout",
     "output_type": "stream",
     "text": [
      "[ 0.  1.  0. -1.  0.]\n"
     ]
    }
   ],
   "source": [
    "print np.round(np.sin(args), decimals=2)"
   ]
  },
  {
   "cell_type": "markdown",
   "metadata": {
    "slideshow": {
     "slide_type": "subslide"
    }
   },
   "source": [
    "### managing output"
   ]
  },
  {
   "cell_type": "code",
   "execution_count": 573,
   "metadata": {
    "collapsed": false
   },
   "outputs": [
    {
     "data": {
      "text/plain": [
       "'0.0, 100.0%, 1.224647e-16, -1.00, -0'"
      ]
     },
     "execution_count": 573,
     "metadata": {},
     "output_type": "execute_result"
    }
   ],
   "source": [
    "'{}, {:.1%}, {:e}, {:.2f}, {:.0f}'.format(*np.sin(args))"
   ]
  },
  {
   "cell_type": "code",
   "execution_count": 574,
   "metadata": {
    "collapsed": false
   },
   "outputs": [
    {
     "name": "stdout",
     "output_type": "stream",
     "text": [
      "[0.00 1.00 0.00 -1.00 -0.00]\n"
     ]
    }
   ],
   "source": [
    "np.set_printoptions(formatter={'all':lambda x: '{:.2f}'.format(x)})\n",
    "print np.sin(args)\n",
    "np.set_printoptions()"
   ]
  },
  {
   "cell_type": "markdown",
   "metadata": {
    "slideshow": {
     "slide_type": "subslide"
    }
   },
   "source": [
    "### Meshes"
   ]
  },
  {
   "cell_type": "markdown",
   "metadata": {},
   "source": [
    "linspace, meshgrid"
   ]
  },
  {
   "cell_type": "markdown",
   "metadata": {
    "slideshow": {
     "slide_type": "-"
    }
   },
   "source": [
    "Let's produce a function\n",
    "$$\n",
    "f(x, y) = sin(x+y)\n",
    "$$\n",
    "on some mesh."
   ]
  },
  {
   "cell_type": "code",
   "execution_count": 575,
   "metadata": {
    "collapsed": false
   },
   "outputs": [],
   "source": [
    "linear_index = np.linspace(0, np.pi, 10, endpoint=True)\n",
    "mesh_x, mesh_y = np.meshgrid(linear_index, linear_index)\n",
    "\n",
    "values_3D = np.sin(mesh_x + mesh_y)"
   ]
  },
  {
   "cell_type": "code",
   "execution_count": 576,
   "metadata": {
    "collapsed": false,
    "format": "row",
    "scrolled": true,
    "slideshow": {
     "slide_type": "subslide"
    }
   },
   "outputs": [
    {
     "data": {
      "text/plain": [
       "<matplotlib.text.Text at 0x4fc264e0>"
      ]
     },
     "execution_count": 576,
     "metadata": {},
     "output_type": "execute_result"
    },
    {
     "data": {
      "image/png": "[encoded data removed]",
      "text/plain": [
       "<matplotlib.figure.Figure at 0x27f4dbe0>"
      ]
     },
     "metadata": {},
     "output_type": "display_data"
    }
   ],
   "source": [
    "import matplotlib.pyplot as plt\n",
    "from mpl_toolkits.mplot3d import Axes3D\n",
    "%matplotlib inline\n",
    "\n",
    "fig = plt.figure(figsize=(10,6))\n",
    "ax = fig.gca(projection='3d')\n",
    "\n",
    "ax.plot_wireframe(mesh_x, mesh_y, values_3D)\n",
    "ax.view_init(azim=-45, elev=30)\n",
    "\n",
    "plt.title('The plot of $f(x, y) = sin(x+y)$')"
   ]
  },
  {
   "cell_type": "markdown",
   "metadata": {
    "slideshow": {
     "slide_type": "slide"
    }
   },
   "source": [
    "# Scipy - scientific computing 2"
   ]
  },
  {
   "cell_type": "markdown",
   "metadata": {},
   "source": [
    "## Building sparse matrix"
   ]
  },
  {
   "cell_type": "code",
   "execution_count": 577,
   "metadata": {
    "collapsed": true
   },
   "outputs": [],
   "source": [
    "import scipy.sparse as sp"
   ]
  },
  {
   "cell_type": "code",
   "execution_count": 578,
   "metadata": {
    "collapsed": false
   },
   "outputs": [],
   "source": [
    "def scipy_three_diagonal(N):\n",
    "    main_diagonal = -2 * np.ones(N, )\n",
    "    suddiag_values = np.ones(N-1,)\n",
    "    \n",
    "    diagonals = [main_diagonal, suddiag_values, suddiag_values]\n",
    "    # Another option: use sp.eye(N) and add subdiagonals\n",
    "    offsets = [0, 1, -1]\n",
    "    \n",
    "    result = sp.diags(diagonals, offsets, shape=(N, N), format='coo')\n",
    "    return result\n",
    "\n",
    "my_sparse_matrix = scipy_three_diagonal(5)"
   ]
  },
  {
   "cell_type": "markdown",
   "metadata": {
    "slideshow": {
     "slide_type": "subslide"
    }
   },
   "source": [
    "### How does scipy represent sparse matrix?"
   ]
  },
  {
   "cell_type": "code",
   "execution_count": 579,
   "metadata": {
    "collapsed": false,
    "slideshow": {
     "slide_type": "-"
    }
   },
   "outputs": [
    {
     "data": {
      "text/plain": [
       "<5x5 sparse matrix of type '<type 'numpy.float64'>'\n",
       "\twith 13 stored elements in COOrdinate format>"
      ]
     },
     "execution_count": 579,
     "metadata": {},
     "output_type": "execute_result"
    }
   ],
   "source": [
    "my_sparse_matrix"
   ]
  },
  {
   "cell_type": "markdown",
   "metadata": {},
   "source": [
    "Sparse matrix stores only non-zero elements (and their indices)"
   ]
  },
  {
   "cell_type": "code",
   "execution_count": 580,
   "metadata": {
    "collapsed": false
   },
   "outputs": [
    {
     "name": "stdout",
     "output_type": "stream",
     "text": [
      "  (0, 0)\t-2.0\n",
      "  (1, 1)\t-2.0\n",
      "  (2, 2)\t-2.0\n",
      "  (3, 3)\t-2.0\n",
      "  (4, 4)\t-2.0\n",
      "  (0, 1)\t1.0\n",
      "  (1, 2)\t1.0\n",
      "  (2, 3)\t1.0\n",
      "  (3, 4)\t1.0\n",
      "  (1, 0)\t1.0\n",
      "  (2, 1)\t1.0\n",
      "  (3, 2)\t1.0\n",
      "  (4, 3)\t1.0\n"
     ]
    }
   ],
   "source": [
    "print my_sparse_matrix"
   ]
  },
  {
   "cell_type": "markdown",
   "metadata": {
    "slideshow": {
     "slide_type": "subslide"
    }
   },
   "source": [
    "### Restoring full matrix"
   ]
  },
  {
   "cell_type": "code",
   "execution_count": 581,
   "metadata": {
    "collapsed": false
   },
   "outputs": [
    {
     "data": {
      "text/plain": [
       "array([[-2.,  1.,  0.,  0.,  0.],\n",
       "       [ 1., -2.,  1.,  0.,  0.],\n",
       "       [ 0.,  1., -2.,  1.,  0.],\n",
       "       [ 0.,  0.,  1., -2.,  1.],\n",
       "       [ 0.,  0.,  0.,  1., -2.]])"
      ]
     },
     "execution_count": 581,
     "metadata": {},
     "output_type": "execute_result"
    }
   ],
   "source": [
    "my_sparse_matrix.toarray()"
   ]
  },
  {
   "cell_type": "code",
   "execution_count": 582,
   "metadata": {
    "collapsed": false
   },
   "outputs": [
    {
     "data": {
      "text/plain": [
       "array([[-2.,  1.,  0.,  0.,  0.],\n",
       "       [ 1., -2.,  1.,  0.,  0.],\n",
       "       [ 0.,  1., -2.,  1.,  0.],\n",
       "       [ 0.,  0.,  1., -2.,  1.],\n",
       "       [ 0.,  0.,  0.,  1., -2.]])"
      ]
     },
     "execution_count": 582,
     "metadata": {},
     "output_type": "execute_result"
    }
   ],
   "source": [
    "my_sparse_matrix.A"
   ]
  },
  {
   "cell_type": "markdown",
   "metadata": {
    "slideshow": {
     "slide_type": "subslide"
    }
   },
   "source": [
    "## Popular  (not sparse) matrices:"
   ]
  },
  {
   "cell_type": "code",
   "execution_count": 583,
   "metadata": {
    "collapsed": true
   },
   "outputs": [],
   "source": [
    "from scipy.linalg import toeplitz, hankel"
   ]
  },
  {
   "cell_type": "code",
   "execution_count": 584,
   "metadata": {
    "collapsed": false
   },
   "outputs": [
    {
     "data": {
      "text/plain": [
       "array([[ 0,  1,  2,  3],\n",
       "       [ 1,  2,  3, -2],\n",
       "       [ 2,  3, -2, -3],\n",
       "       [ 3, -2, -3, -4]])"
      ]
     },
     "execution_count": 584,
     "metadata": {},
     "output_type": "execute_result"
    }
   ],
   "source": [
    "hankel(xrange(4), [-1, -2, -3, -4])"
   ]
  },
  {
   "cell_type": "code",
   "execution_count": 585,
   "metadata": {
    "collapsed": false
   },
   "outputs": [
    {
     "data": {
      "text/plain": [
       "array([[0, 1, 2, 3],\n",
       "       [1, 0, 1, 2],\n",
       "       [2, 1, 0, 1],\n",
       "       [3, 2, 1, 0]])"
      ]
     },
     "execution_count": 585,
     "metadata": {},
     "output_type": "execute_result"
    }
   ],
   "source": [
    "toeplitz(xrange(4))"
   ]
  },
  {
   "cell_type": "markdown",
   "metadata": {
    "slideshow": {
     "slide_type": "slide"
    }
   },
   "source": [
    "# Timing - measuring performance"
   ]
  },
  {
   "cell_type": "markdown",
   "metadata": {
    "slideshow": {
     "slide_type": "subslide"
    }
   },
   "source": [
    "## Simplest way to measure time"
   ]
  },
  {
   "cell_type": "code",
   "execution_count": 586,
   "metadata": {
    "collapsed": false
   },
   "outputs": [
    {
     "name": "stdout",
     "output_type": "stream",
     "text": [
      "1000 loops, best of 3: 1.53 ms per loop\n",
      "10 loops, best of 3: 20.6 ms per loop\n",
      "1000 loops, best of 3: 272 µs per loop\n"
     ]
    }
   ],
   "source": [
    "N = 1000\n",
    "%timeit three_diagonal(N)\n",
    "%timeit numpy_three_diagonal(N)\n",
    "%timeit scipy_three_diagonal(N)"
   ]
  },
  {
   "cell_type": "markdown",
   "metadata": {},
   "source": [
    "You can also use `%%timeit` magic to measure run time of the whole cell"
   ]
  },
  {
   "cell_type": "code",
   "execution_count": 587,
   "metadata": {
    "collapsed": false
   },
   "outputs": [
    {
     "name": "stdout",
     "output_type": "stream",
     "text": [
      "100 loops, best of 3: 2.17 ms per loop\n"
     ]
    }
   ],
   "source": [
    "%%timeit\n",
    "N = 1000\n",
    "calc = three_diagonal(N)\n",
    "calc = scipy_three_diagonal(N)\n",
    "del calc"
   ]
  },
  {
   "cell_type": "markdown",
   "metadata": {
    "slideshow": {
     "slide_type": "subslide"
    }
   },
   "source": [
    "## Storing timings in a separate variable"
   ]
  },
  {
   "cell_type": "markdown",
   "metadata": {},
   "source": [
    "Avoid using `time.time()` or `time.clock()` directly as their behaviour's different depending on platform; `default_timer` makes the best choice for you. It measures wall time though, e.g. not very precise."
   ]
  },
  {
   "cell_type": "code",
   "execution_count": 588,
   "metadata": {
    "collapsed": false
   },
   "outputs": [],
   "source": [
    "from timeit import default_timer as timer"
   ]
  },
  {
   "cell_type": "code",
   "execution_count": 589,
   "metadata": {
    "collapsed": false
   },
   "outputs": [],
   "source": [
    "dims = [300, 1000, 3000, 10000]\n",
    "bench_names = ['loop', 'numpy', 'scipy']\n",
    "timings = {bench:[] for bench in bench_names}\n",
    "\n",
    "for n in dims:\n",
    "    start_time = timer()\n",
    "    calc = three_diagonal(n)\n",
    "    time_delta = timer() - start_time\n",
    "    timings['loop'].append(time_delta)\n",
    "    \n",
    "    start_time = timer()\n",
    "    calc = numpy_three_diagonal(n)\n",
    "    time_delta = timer() - start_time\n",
    "    timings['numpy'].append(time_delta)\n",
    "    \n",
    "    start_time = timer()\n",
    "    calc = scipy_three_diagonal(n)\n",
    "    time_delta = timer() - start_time\n",
    "    timings['scipy'].append(time_delta)"
   ]
  },
  {
   "cell_type": "markdown",
   "metadata": {
    "slideshow": {
     "slide_type": "subslide"
    }
   },
   "source": [
    "Let's make the code less redundant"
   ]
  },
  {
   "cell_type": "code",
   "execution_count": 590,
   "metadata": {
    "collapsed": false,
    "slideshow": {
     "slide_type": "-"
    }
   },
   "outputs": [],
   "source": [
    "dims = [300, 1000, 3000, 10000]\n",
    "bench_names = ['loop', 'numpy', 'scipy']\n",
    "timings = {bench_name: [] for bench_name in bench_names}\n",
    "\n",
    "def timing_machine(func, *args, **kwargs):\n",
    "    start_time = timer()\n",
    "    result = func(*args, **kwargs)\n",
    "    time_delta = timer() - start_time\n",
    "    return time_delta\n",
    "\n",
    "for n in dims:\n",
    "    timings['loop'].append(timing_machine(three_diagonal, n))\n",
    "    timings['numpy'].append(timing_machine(numpy_three_diagonal, n))\n",
    "    timings['scipy'].append(timing_machine(scipy_three_diagonal, n))"
   ]
  },
  {
   "cell_type": "markdown",
   "metadata": {
    "slideshow": {
     "slide_type": "subslide"
    }
   },
   "source": [
    "## `timeit` with -o parameter"
   ]
  },
  {
   "cell_type": "markdown",
   "metadata": {},
   "source": [
    "more details on different parameters:\n",
    "https://ipython.org/ipython-doc/dev/interactive/magics.html#magic-timeit"
   ]
  },
  {
   "cell_type": "code",
   "execution_count": 612,
   "metadata": {
    "collapsed": false
   },
   "outputs": [
    {
     "name": "stdout",
     "output_type": "stream",
     "text": [
      "Best of 5 runs: 0.00000565s\n"
     ]
    }
   ],
   "source": [
    "timeit_result = %timeit -q -r 5 -o three_diagonal(10)\n",
    "print 'Best of {} runs: {:.8f}s'.format(timeit_result.repeat,\n",
    "                                        timeit_result.best)"
   ]
  },
  {
   "cell_type": "markdown",
   "metadata": {},
   "source": [
    "Our new benchmark procedure"
   ]
  },
  {
   "cell_type": "code",
   "execution_count": 592,
   "metadata": {
    "collapsed": false
   },
   "outputs": [
    {
     "name": "stdout",
     "output_type": "stream",
     "text": [
      "\n",
      "Measuring three_diagonal\n",
      "300 1000 3000 10000 \n",
      "Measuring numpy_three_diagonal\n",
      "300 1000 3000 10000 \n",
      "Measuring scipy_three_diagonal\n",
      "300 1000 3000 10000\n"
     ]
    }
   ],
   "source": [
    "dims = [300, 1000, 3000, 10000]\n",
    "bench_names = ['loop', 'numpy', 'scipy']\n",
    "bench_funcs = [three_diagonal, numpy_three_diagonal, scipy_three_diagonal]\n",
    "timings_best = {bench_name: [] for bench_name in bench_names}\n",
    "\n",
    "for bench_name, bench_func in zip(bench_names, bench_funcs):\n",
    "    print '\\nMeasuring {}'.format(bench_func.func_name)\n",
    "    for n in dims:\n",
    "        print n,\n",
    "        time_result = %timeit -q -o bench_func(n)\n",
    "        timings_best[bench_name].append(time_result.best)"
   ]
  },
  {
   "cell_type": "markdown",
   "metadata": {
    "slideshow": {
     "slide_type": "slide"
    }
   },
   "source": [
    "# Matplotlib - plotting in python"
   ]
  },
  {
   "cell_type": "markdown",
   "metadata": {},
   "source": [
    "don't forget to check\n",
    "* http://matplotlib.org/users/pyplot_tutorial.html\n",
    "* http://matplotlib.org/gallery.html\n",
    "* http://matplotlib.org/examples/index.html"
   ]
  },
  {
   "cell_type": "markdown",
   "metadata": {
    "slideshow": {
     "slide_type": "subslide"
    }
   },
   "source": [
    "## Configuring matplotlib"
   ]
  },
  {
   "cell_type": "code",
   "execution_count": 593,
   "metadata": {
    "collapsed": false,
    "run_control": {
     "marked": false
    },
    "slideshow": {
     "slide_type": "-"
    }
   },
   "outputs": [],
   "source": [
    "import matplotlib.pyplot as plt\n",
    "%matplotlib inline "
   ]
  },
  {
   "cell_type": "markdown",
   "metadata": {},
   "source": [
    "`%matplotlib inline` ensures all graphs are plotted inside your notebook"
   ]
  },
  {
   "cell_type": "markdown",
   "metadata": {
    "collapsed": true
   },
   "source": [
    "## Global controls"
   ]
  },
  {
   "cell_type": "markdown",
   "metadata": {},
   "source": [
    "(more at http://matplotlib.org/users/customizing.html)"
   ]
  },
  {
   "cell_type": "code",
   "execution_count": 594,
   "metadata": {
    "collapsed": true
   },
   "outputs": [],
   "source": [
    "# plt.rcParams.update({'axes.labelsize': 'large'})\n",
    "plt.rcParams.update({'font.size': 14})"
   ]
  },
  {
   "cell_type": "markdown",
   "metadata": {
    "slideshow": {
     "slide_type": "subslide"
    }
   },
   "source": [
    "## Combined plot"
   ]
  },
  {
   "cell_type": "code",
   "execution_count": 595,
   "metadata": {
    "collapsed": false,
    "slideshow": {
     "slide_type": "subslide"
    }
   },
   "outputs": [
    {
     "data": {
      "text/plain": [
       "<matplotlib.text.Text at 0x4fc49cc0>"
      ]
     },
     "execution_count": 595,
     "metadata": {},
     "output_type": "execute_result"
    },
    {
     "data": {
      "image/png": "[encoded data removed]",
      "text/plain": [
       "<matplotlib.figure.Figure at 0x3b154710>"
      ]
     },
     "metadata": {},
     "output_type": "display_data"
    }
   ],
   "source": [
    "plt.figure(figsize=(10,8))\n",
    "\n",
    "for bench_name, values in timings_best.iteritems():\n",
    "    plt.semilogy(dims, values, label=bench_name)\n",
    "    \n",
    "plt.legend(loc='best')\n",
    "plt.title('Benchmarking results with best of timeit', y=1.03)\n",
    "plt.xlabel('Matrix dimension size')\n",
    "plt.ylabel('Time, s')"
   ]
  },
  {
   "cell_type": "code",
   "execution_count": 596,
   "metadata": {
    "collapsed": false,
    "format": "tab",
    "scrolled": true,
    "slideshow": {
     "slide_type": "subslide"
    }
   },
   "outputs": [
    {
     "data": {
      "text/plain": [
       "<matplotlib.text.Text at 0x375a2630>"
      ]
     },
     "execution_count": 596,
     "metadata": {},
     "output_type": "execute_result"
    },
    {
     "data": {
      "image/png": "[encoded data removed]",
      "text/plain": [
       "<matplotlib.figure.Figure at 0x2f8025c0>"
      ]
     },
     "metadata": {},
     "output_type": "display_data"
    }
   ],
   "source": [
    "plt.figure(figsize=(10,8))\n",
    "\n",
    "for bench_name, values in timings.iteritems():\n",
    "    plt.semilogy(dims, values, label=bench_name)\n",
    "    \n",
    "plt.legend(loc='best')\n",
    "plt.title('Benchmarking results with default_timer', y=1.03)\n",
    "plt.xlabel('Matrix dimension size')\n",
    "plt.ylabel('Time, s')"
   ]
  },
  {
   "cell_type": "markdown",
   "metadata": {
    "slideshow": {
     "slide_type": "subslide"
    }
   },
   "source": [
    "**Think, why:**\n",
    "* \"loop\" was faster then \"numpy\"\n",
    "* \"scipy\" is almost constant\n",
    "* results for *default_timer* and *\"best of timeit\"* are different\n",
    "\n",
    "You might want to read the docs:\n",
    "* https://docs.python.org/2/library/timeit.html#timeit.default_timer\n",
    "* https://docs.python.org/2/library/time.html#time.clock and https://docs.python.org/2/library/time.html#time.time\n",
    "\n",
    "**Remark:** starting from *python 3.3* it's recommended to use ```time.perf_counter()``` and ```time.process_time()```\n",
    "https://docs.python.org/3/library/time.html#time.perf_counter\n",
    "\n",
    "Also note, that for advanced benchmarking it's better to use profiling tools."
   ]
  },
  {
   "cell_type": "markdown",
   "metadata": {
    "slideshow": {
     "slide_type": "subslide"
    }
   },
   "source": [
    "### Combined plot \"one-liner\""
   ]
  },
  {
   "cell_type": "markdown",
   "metadata": {},
   "source": [
    "Use ```plt.plot?``` to get detailed info on function usage."
   ]
  },
  {
   "cell_type": "markdown",
   "metadata": {},
   "source": [
    "**Task**: given lists of x-values, y-falues and plot format strings, plot all three graphs in one line.\n",
    "\n",
    "*Hint*: use list comprehensions"
   ]
  },
  {
   "cell_type": "code",
   "execution_count": 597,
   "metadata": {
    "collapsed": false,
    "slideshow": {
     "slide_type": "subslide"
    }
   },
   "outputs": [
    {
     "data": {
      "text/plain": [
       "<matplotlib.text.Text at 0x2859bfd0>"
      ]
     },
     "execution_count": 597,
     "metadata": {},
     "output_type": "execute_result"
    },
    {
     "data": {
      "image/png": "[encoded data removed]",
      "text/plain": [
       "<matplotlib.figure.Figure at 0x30023f28>"
      ]
     },
     "metadata": {},
     "output_type": "display_data"
    }
   ],
   "source": [
    "k = len(timings_best)\n",
    "iter_xyf = [item for sublist in zip([dims]*k,\n",
    "                                    timings_best.values(),\n",
    "                                    list('rgb'))\\\n",
    "                                for item in sublist]\n",
    "\n",
    "plt.figure(figsize=(10, 8))\n",
    "plt.semilogy(*iter_xyf)\n",
    "\n",
    "plt.legend(timings_best.keys(), loc=2, frameon=False)\n",
    "plt.title('Benchmarking results - \"one-liner\"', y=1.03)\n",
    "plt.xlabel('Matrix dimension size')\n",
    "plt.ylabel('Time, s')"
   ]
  },
  {
   "cell_type": "markdown",
   "metadata": {
    "slideshow": {
     "slide_type": "subslide"
    }
   },
   "source": [
    "Even simpler way - also gives you granular control on plot objects"
   ]
  },
  {
   "cell_type": "code",
   "execution_count": 598,
   "metadata": {
    "collapsed": false,
    "slideshow": {
     "slide_type": "-"
    }
   },
   "outputs": [
    {
     "data": {
      "image/png": "[encoded data removed]",
      "text/plain": [
       "<matplotlib.figure.Figure at 0x2dec4fd0>"
      ]
     },
     "metadata": {},
     "output_type": "display_data"
    }
   ],
   "source": [
    "plt.figure(figsize=(10, 8))\n",
    "\n",
    "figs = [plt.semilogy(dims, values, label=bench_name)\\\n",
    "        for bench_name, values in timings.iteritems()];\n",
    "\n",
    "ax0, = figs[0]\n",
    "ax0.set_dashes([5, 10, 20, 10, 5, 10])\n",
    "\n",
    "ax1, = figs[1]\n",
    "ax1.set_marker('s')\n",
    "ax1.set_markerfacecolor('r')\n",
    "\n",
    "ax2, = figs[2]\n",
    "ax2.set_linewidth(6)\n",
    "ax2.set_alpha(0.3)\n",
    "ax2.set_color('m')"
   ]
  },
  {
   "cell_type": "markdown",
   "metadata": {
    "slideshow": {
     "slide_type": "subslide"
    }
   },
   "source": [
    "## Plot formatting"
   ]
  },
  {
   "cell_type": "markdown",
   "metadata": {},
   "source": [
    "matplotlib has a number of different options for styling your plot"
   ]
  },
  {
   "cell_type": "code",
   "execution_count": 599,
   "metadata": {
    "collapsed": true,
    "slideshow": {
     "slide_type": "-"
    }
   },
   "outputs": [],
   "source": [
    "all_markers = [\n",
    "'.', # point\n",
    "',', # pixel\n",
    "'o', # circle\n",
    "'v', # triangle down\n",
    "'^', # triangle up\n",
    "'<', # triangle_left\n",
    "'>', # triangle_right\n",
    "'1', # tri_down\n",
    "'2', # tri_up\n",
    "'3', # tri_left\n",
    "'4', # tri_right\n",
    "'8', # octagon\n",
    "'s', # square\n",
    "'p', # pentagon\n",
    "'*', # star\n",
    "'h', # hexagon1\n",
    "'H', # hexagon2\n",
    "'+', # plus\n",
    "'x', # x\n",
    "'D', # diamond\n",
    "'d', # thin_diamond\n",
    "'|', # vline\n",
    "]\n",
    "\n",
    "all_linestyles = [\n",
    "'-',  # solid line style\n",
    "'--', # dashed line style\n",
    "'-.', # dash-dot line style\n",
    "':',  # dotted line style\n",
    "'None'# no line\n",
    "]\n",
    "\n",
    "all_colors = [\n",
    "'b', # blue\n",
    "'g', # green\n",
    "'r', # red\n",
    "'c', # cyan\n",
    "'m', # magenta\n",
    "'y', # yellow\n",
    "'k', # black\n",
    "'w', # white\n",
    "]"
   ]
  },
  {
   "cell_type": "markdown",
   "metadata": {
    "slideshow": {
     "slide_type": "subslide"
    }
   },
   "source": [
    "## Subplots"
   ]
  },
  {
   "cell_type": "markdown",
   "metadata": {},
   "source": [
    "for advanced usage of subplots start here\n",
    "* http://matplotlib.org/examples/pylab_examples/subplots_demo.html\n",
    "* http://matplotlib.org/users/tight_layout_guide.html\n",
    "* http://matplotlib.org/users/gridspec.html"
   ]
  },
  {
   "cell_type": "markdown",
   "metadata": {
    "slideshow": {
     "slide_type": "subslide"
    }
   },
   "source": [
    "### Iterating over subplots"
   ]
  },
  {
   "cell_type": "code",
   "execution_count": 622,
   "metadata": {
    "collapsed": false,
    "format": "tab",
    "slideshow": {
     "slide_type": "-"
    }
   },
   "outputs": [
    {
     "data": {
      "text/plain": [
       "<matplotlib.text.Text at 0x581efb38>"
      ]
     },
     "execution_count": 622,
     "metadata": {},
     "output_type": "execute_result"
    },
    {
     "data": {
      "image/png": "[encoded data removed]",
      "text/plain": [
       "<matplotlib.figure.Figure at 0x57edec50>"
      ]
     },
     "metadata": {},
     "output_type": "display_data"
    }
   ],
   "source": [
    "n = len(timings)\n",
    "experiment_names = timings.keys()\n",
    "\n",
    "fig, axes = plt.subplots(1, n, sharey=True, figsize=(16,4))\n",
    "\n",
    "colors = np.random.choice(list('rgbcmyk'), n, replace=False)\n",
    "markers = np.random.choice(all_markers, n, replace=False)\n",
    "lines = np.random.choice(all_linestyles, n, replace=False)\n",
    "\n",
    "for ax_num, ax in enumerate(axes):\n",
    "    key = experiment_names[ax_num]\n",
    "    ax.semilogy(dims, timings[key], label=key,\n",
    "            color=colors[ax_num],\n",
    "            marker=markers[ax_num],\n",
    "            markersize=8,\n",
    "            linestyle=lines[ax_num],\n",
    "            lw=3)\n",
    "    ax.set_xlabel('matrix dimension')\n",
    "    ax.set_title(key)\n",
    "\n",
    "axes[0].set_ylabel('Time, s')\n",
    "plt.suptitle('Benchmarking results', fontsize=16,  y=1.03)\n"
   ]
  },
  {
   "cell_type": "markdown",
   "metadata": {
    "slideshow": {
     "slide_type": "subslide"
    }
   },
   "source": [
    "### Manual control of subplots"
   ]
  },
  {
   "cell_type": "code",
   "execution_count": 601,
   "metadata": {
    "collapsed": false
   },
   "outputs": [
    {
     "data": {
      "text/plain": [
       "[<matplotlib.lines.Line2D at 0x2ef6ac88>]"
      ]
     },
     "execution_count": 601,
     "metadata": {},
     "output_type": "execute_result"
    },
    {
     "data": {
      "image/png": "[encoded data removed]",
      "text/plain": [
       "<matplotlib.figure.Figure at 0x30023748>"
      ]
     },
     "metadata": {},
     "output_type": "display_data"
    }
   ],
   "source": [
    "plt.figure()\n",
    "plt.subplot(211)\n",
    "plt.plot([1,2,3])\n",
    "\n",
    "plt.subplot(212)\n",
    "plt.plot([2,5,4])"
   ]
  },
  {
   "cell_type": "markdown",
   "metadata": {
    "slideshow": {
     "slide_type": "subslide"
    }
   },
   "source": [
    "**Task**: create subplot with 2 columns and 2 rows. Leave bottom left quarter empty. Scipy and numpy benchmarks should go into top row."
   ]
  },
  {
   "cell_type": "markdown",
   "metadata": {
    "slideshow": {
     "slide_type": "slide"
    }
   },
   "source": [
    "# Другие темы\n",
    "\n",
    "- Функции-обёртки и декораторы\n",
    "\n",
    "- Установка пакетов\n",
    "\n",
    "- Импортирование модулей\n",
    "\n",
    "- Магия Jupyter\n",
    "\n",
    "- Qtconsole\n",
    "\n",
    "- Окружения\n",
    "\n",
    "- Расширения\n",
    "\n",
    "- Профилирование\n",
    "\n",
    "- Отладка\n",
    "\n",
    "- Cython & Numba\n",
    "\n",
    "- Openmp\n",
    "\n",
    "- OOP\n",
    "\n",
    "- Python 2 vs Python 3\n",
    "\n",
    "- plotting in python - palletes and colormaps, styles\n",
    "\n",
    "- Pandas - представление результатов\n",
    "\n",
    "- Конфигурация Jupyter\n",
    "\n",
    "- etc..."
   ]
  },
  {
   "cell_type": "markdown",
   "metadata": {
    "collapsed": true,
    "slideshow": {
     "slide_type": "notes"
    }
   },
   "source": [
    "# Solutions"
   ]
  },
  {
   "cell_type": "markdown",
   "metadata": {
    "slideshow": {
     "slide_type": "notes"
    }
   },
   "source": [
    "**Task 1**"
   ]
  },
  {
   "cell_type": "code",
   "execution_count": 602,
   "metadata": {
    "collapsed": true,
    "slideshow": {
     "slide_type": "notes"
    }
   },
   "outputs": [],
   "source": [
    "items = ['foo', 'bar', 'baz', 'foo', 'baz', 'bar']"
   ]
  },
  {
   "cell_type": "markdown",
   "metadata": {},
   "source": [
    "method 1"
   ]
  },
  {
   "cell_type": "code",
   "execution_count": 603,
   "metadata": {
    "collapsed": false,
    "slideshow": {
     "slide_type": "notes"
    }
   },
   "outputs": [
    {
     "data": {
      "text/plain": [
       "[0, 1, 2, 0, 2, 1]"
      ]
     },
     "execution_count": 603,
     "metadata": {},
     "output_type": "execute_result"
    }
   ],
   "source": [
    "from collections import defaultdict\n",
    "\n",
    "item_ids = defaultdict(lambda: len(item_ids))\n",
    "map(item_ids.__getitem__, items)"
   ]
  },
  {
   "cell_type": "markdown",
   "metadata": {},
   "source": [
    "method 2"
   ]
  },
  {
   "cell_type": "code",
   "execution_count": 604,
   "metadata": {
    "collapsed": false,
    "slideshow": {
     "slide_type": "notes"
    }
   },
   "outputs": [
    {
     "data": {
      "text/plain": [
       "array([0, 1, 2, 0, 2, 1], dtype=int64)"
      ]
     },
     "execution_count": 604,
     "metadata": {},
     "output_type": "execute_result"
    }
   ],
   "source": [
    "import pandas as pd\n",
    "\n",
    "pd.DataFrame({'items': items}).groupby('items', sort=False).grouper.group_info[0]"
   ]
  },
  {
   "cell_type": "markdown",
   "metadata": {},
   "source": [
    "method 3"
   ]
  },
  {
   "cell_type": "code",
   "execution_count": 605,
   "metadata": {
    "collapsed": false,
    "slideshow": {
     "slide_type": "notes"
    }
   },
   "outputs": [
    {
     "data": {
      "text/plain": [
       "array([2, 0, 1, 2, 1, 0])"
      ]
     },
     "execution_count": 605,
     "metadata": {},
     "output_type": "execute_result"
    }
   ],
   "source": [
    "import numpy as np\n",
    "\n",
    "np.unique(items, return_inverse=True)[1]"
   ]
  },
  {
   "cell_type": "markdown",
   "metadata": {
    "collapsed": true
   },
   "source": [
    "method 4"
   ]
  },
  {
   "cell_type": "code",
   "execution_count": 606,
   "metadata": {
    "collapsed": false
   },
   "outputs": [
    {
     "data": {
      "text/plain": [
       "[0, 1, 2, 0, 2, 1]"
      ]
     },
     "execution_count": 606,
     "metadata": {},
     "output_type": "execute_result"
    }
   ],
   "source": [
    "last = 0\n",
    "counts = {}\n",
    "result = []\n",
    "for item in items:\n",
    "    try:\n",
    "        count = counts[item]\n",
    "    except KeyError:\n",
    "        counts[item] = count = last\n",
    "        last += 1\n",
    "    result.append(count)\n",
    "\n",
    "result"
   ]
  },
  {
   "cell_type": "markdown",
   "metadata": {
    "slideshow": {
     "slide_type": "notes"
    }
   },
   "source": [
    "**Task 2**"
   ]
  },
  {
   "cell_type": "code",
   "execution_count": 607,
   "metadata": {
    "collapsed": true,
    "slideshow": {
     "slide_type": "notes"
    }
   },
   "outputs": [],
   "source": [
    "N = 1000"
   ]
  },
  {
   "cell_type": "code",
   "execution_count": 608,
   "metadata": {
    "collapsed": false,
    "slideshow": {
     "slide_type": "notes"
    }
   },
   "outputs": [
    {
     "name": "stdout",
     "output_type": "stream",
     "text": [
      "10 loops, best of 3: 78.6 ms per loop\n"
     ]
    }
   ],
   "source": [
    "from itertools import permutations\n",
    "\n",
    "%timeit list(permutations(xrange(N), 2))"
   ]
  },
  {
   "cell_type": "markdown",
   "metadata": {
    "slideshow": {
     "slide_type": "notes"
    }
   },
   "source": [
    "Hankel matrix: $a_{ij} = a_{i-1, j+1}$"
   ]
  },
  {
   "cell_type": "code",
   "execution_count": 609,
   "metadata": {
    "collapsed": true,
    "slideshow": {
     "slide_type": "notes"
    }
   },
   "outputs": [],
   "source": [
    "import numpy as np\n",
    "from scipy.linalg import hankel\n",
    "\n",
    "def pairs_idx(n):\n",
    "    return np.vstack((np.repeat(xrange(n), n-1), hankel(xrange(1, n), xrange(-1, n-1)).ravel()))"
   ]
  },
  {
   "cell_type": "code",
   "execution_count": 610,
   "metadata": {
    "collapsed": false,
    "run_control": {
     "marked": false
    },
    "slideshow": {
     "slide_type": "notes"
    }
   },
   "outputs": [
    {
     "name": "stdout",
     "output_type": "stream",
     "text": [
      "100 loops, best of 3: 17.6 ms per loop\n"
     ]
    }
   ],
   "source": [
    "%timeit pairs_idx(N)"
   ]
  }
 ],
 "metadata": {
  "anaconda-cloud": {},
  "celltoolbar": "Slideshow",
  "kernelspec": {
   "display_name": "Python [default]",
   "language": "python",
   "name": "python2"
  },
  "language_info": {
   "codemirror_mode": {
    "name": "ipython",
    "version": 2
   },
   "file_extension": ".py",
   "mimetype": "text/x-python",
   "name": "python",
   "nbconvert_exporter": "python",
   "pygments_lexer": "ipython2",
   "version": "2.7.13"
  }
 },
 "nbformat": 4,
 "nbformat_minor": 0
}

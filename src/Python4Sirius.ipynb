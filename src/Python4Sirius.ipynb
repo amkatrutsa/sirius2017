{
 "cells": [
  {
   "cell_type": "markdown",
   "metadata": {
    "slideshow": {
     "slide_type": "slide"
    }
   },
   "source": [
    "# Экспресс-курс по программированию на Python"
   ]
  },
  {
   "cell_type": "markdown",
   "metadata": {
    "slideshow": {
     "slide_type": "slide"
    }
   },
   "source": [
    "## Интересные факты\n",
    "\n",
    "- Разработка языка Python была начата в конце 1980-х годов сотрудником голландского института CWI Гвидо ван Россумом\n",
    "- Автор назвал язык в честь популярного британского комедийного телешоу 1970-х «Летающий цирк Монти Пайтона»\n",
    "- Динамическая типизация\n",
    "- Python используется:\n",
    "    - Dropbox написан на Python\n",
    "    - Google: на Python написан YouTube и YouTube API и не только...\n",
    "    - Facebook\n",
    "    - SciPy стек заменяет проприетарные системы (MATLAB, Mathemathica) для научных вычислений\n",
    "    - scikit-learn - самая популярная библиотека алгоритмов машинного обучения\n",
    "    - Web-разработка"
   ]
  },
  {
   "cell_type": "markdown",
   "metadata": {
    "slideshow": {
     "slide_type": "slide"
    }
   },
   "source": [
    "## Где искать информацию? \n",
    "\n",
    "Конкретнее, чем в абстрактном \"Интернете\" или \"Google'e\":\n",
    "\n",
    "* Автостопом по Python'у:\n",
    "http://docs.python-guide.org/en/latest/\n",
    "\n",
    "* Сложный путь - проще: http://learnpythonthehardway.org\n",
    "\n",
    "* Python-курс от Google:\n",
    "https://developers.google.com/edu/python/\n",
    "\n",
    "* Официальный учебник:\n",
    "https://docs.python.org/2/tutorial/\n",
    "\n",
    "* Python Tutor - визуализация кода (разработано в MIT):\n",
    "http://pythontutor.com/\n",
    "\n",
    "* Если Вы растерялись и не понимаете, что происходит: https://www.codecademy.com/en/tracks/python"
   ]
  },
  {
   "cell_type": "markdown",
   "metadata": {
    "slideshow": {
     "slide_type": "slide"
    }
   },
   "source": [
    "### Материалы для углублённого изучения\n",
    "\n",
    "* Al Sweigart, \"Automate the Boring Stuff with Python\", https://automatetheboringstuff.com\n",
    "* Mark Lutz, \"Python Pocket Reference\" (250 pages)\n",
    "* Mark Lutz, \"Learning Python\" (1600 pages!)"
   ]
  },
  {
   "cell_type": "markdown",
   "metadata": {
    "slideshow": {
     "slide_type": "slide"
    }
   },
   "source": [
    "## Философия Pуthon'a\n",
    "\n",
    "- Красивое лучше, чем уродливое.\n",
    "- Явное лучше, чем неявное.\n",
    "- Простое лучше, чем сложное.\n",
    "- Сложное лучше, чем запутанное.\n",
    "- Плоское лучше, чем вложенное.\n",
    "- Разреженное лучше, чем плотное.\n",
    "- Читаемость имеет значение.\n",
    "- Особые случаи не настолько особые, чтобы нарушать правила.\n",
    "- При этом практичность важнее безупречности.\n",
    "- Ошибки никогда не должны замалчиваться.\n",
    "- Если не замалчиваются явно.\n",
    "- Встретив двусмысленность, отбрось искушение угадать.\n",
    "- Должен существовать один — и, желательно, только один — очевидный способ сделать это.\n",
    "- Хотя он поначалу может быть и не очевиден, если вы не голландец.\n",
    "- Сейчас лучше, чем никогда.\n",
    "- Хотя никогда зачастую лучше, чем прямо сейчас.\n",
    "- Если реализацию сложно объяснить — идея плоха.\n",
    "- Если реализацию легко объяснить — идея, возможно, хороша.\n",
    "- Пространства имён — отличная штука! Будем делать их побольше!\n",
    "\n",
    "Английский вариант можно получить набрав в интерпретаторе\n",
    "```python\n",
    "import this\n",
    "```\n",
    "Работает один раз в сессию."
   ]
  },
  {
   "cell_type": "markdown",
   "metadata": {
    "slideshow": {
     "slide_type": "slide"
    }
   },
   "source": [
    "## Принципы написания кода\n",
    "\n",
    "- Прежде всего код должен быть читаем!\n",
    "    - Другому человеку должно быть просто понять, что делает код, который Вы написали\n",
    "    - Имена переменных, функций и классов должны быть осмысленными\n",
    "    - Стиль написания должен быть единообразным: форматирование, пробелы, etc\n",
    "\n",
    "- Соглашения по стилю (Style giudes):\n",
    "    - PEP8 (PEP = Python Enhancement Proposal) http://legacy.python.org/dev/peps/pep-0008/\n",
    "    - пишите идиоматический код http://python.net/~goodger/projects/pycon/2007/idiomatic/handout.html"
   ]
  },
  {
   "cell_type": "markdown",
   "metadata": {
    "slideshow": {
     "slide_type": "slide"
    }
   },
   "source": [
    "## Как НЕ надо писать код\n",
    "\n",
    "- Итерации по словарю:\n",
    "http://docs.quantifiedcode.com/python-anti-patterns/performance/index.html\n",
    "\n",
    "- Импортирование содержимого всего модуля:\n",
    "http://docs.quantifiedcode.com/python-anti-patterns/maintainability/from_module_import_all_used.html\n",
    "\n",
    "\n",
    "- Использование одной буквы для обозначения переменных (кроме быть может индексов):\n",
    "http://docs.quantifiedcode.com/python-anti-patterns/maintainability/using_single_letter_as_variable_name.html\n",
    "\n",
    "\n",
    "- НЕ следует сравнивать значение с ``None``\n",
    "при помощи оператора ``==`` : \n",
    "http://docs.quantifiedcode.com/python-anti-patterns/readability/comparison_to_none.html\n",
    "\n",
    "\n",
    "- НЕ следует сравнивать значение с ``True``\n",
    "при помощи оператора ``==`` : http://docs.quantifiedcode.com/python-anti-patterns/readability/comparison_to_true.html\n",
    "\n",
    "- НЕ следует сравнивать типы при помощи функции ``type()``: http://docs.quantifiedcode.com/python-anti-patterns/readability/do_not_compare_types_use_isinstance.html\n",
    "\n",
    "\n",
    "- Использование не-Python циклов: http://docs.quantifiedcode.com/python-anti-patterns/readability/using_an_unpythonic_loop.html\n",
    "\n",
    "\n",
    "- Использование \"верблюжьей\" нотации при определении функций: http://docs.quantifiedcode.com/python-anti-patterns/readability/using_camelcase_in_function_names.html"
   ]
  },
  {
   "cell_type": "markdown",
   "metadata": {
    "slideshow": {
     "slide_type": "slide"
    }
   },
   "source": [
    "## Основы Python\n",
    "\n",
    "Проверьте Вашу версию:\n",
    "```bash\n",
    "python --version\n",
    "```\n",
    "\n",
    "Этот курс использует Python 2"
   ]
  },
  {
   "cell_type": "markdown",
   "metadata": {
    "slideshow": {
     "slide_type": "slide"
    }
   },
   "source": [
    "### Базовые типы\n",
    "\n",
    "- Переменные\n",
    "- Строки\n",
    "- Контейнеры"
   ]
  },
  {
   "cell_type": "markdown",
   "metadata": {
    "slideshow": {
     "slide_type": "slide"
    }
   },
   "source": [
    "#### Переменные\n",
    "\n",
    "```python\n",
    "a = b = 3\n",
    "\n",
    "c, d = 4, 5\n",
    "\n",
    "c, d = d, c\n",
    "```"
   ]
  },
  {
   "cell_type": "markdown",
   "metadata": {
    "slideshow": {
     "slide_type": "slide"
    }
   },
   "source": [
    "#### Целые int и дробные float (с плавающей точкой) числа.\n",
    "- Тип данных можно узнать, применив стандартную функцию type.\n",
    "- Конвертация данных одного типа в другой\n",
    "- Округление\n",
    "- Деление"
   ]
  },
  {
   "cell_type": "code",
   "execution_count": 1,
   "metadata": {
    "collapsed": false,
    "slideshow": {
     "slide_type": "slide"
    }
   },
   "outputs": [
    {
     "name": "stdout",
     "output_type": "stream",
     "text": [
      "<type 'int'>\n",
      "2\n",
      "<type 'int'>\n",
      "2\n",
      "<type 'float'>\n",
      "2.7\n",
      "<type 'int'>\n",
      "2\n",
      "<type 'float'>\n",
      "3.0\n"
     ]
    }
   ],
   "source": [
    "a = 4 / 2\n",
    "print type(a)\n",
    "print a\n",
    "\n",
    "a = int(a)  # динамическая типизация\n",
    "print type(a)\n",
    "print a\n",
    "\n",
    "b = 0.2 + .3 + 2e-01 + a  # автоматическое приведение к одному типу\n",
    "print type(b)\n",
    "print b\n",
    " \n",
    "a = int(b)  # приведение к целому числу включает в себя округление в МЕНЬШУЮ сторону\n",
    "print type(a)\n",
    "print a\n",
    "\n",
    "a = round(b)  # используйте функцию round для округления в ближайшую сторону\n",
    "print type(a)\n",
    "print a"
   ]
  },
  {
   "cell_type": "markdown",
   "metadata": {
    "slideshow": {
     "slide_type": "slide"
    }
   },
   "source": [
    "#### Строки\n",
    "\n",
    "- Cтроки поддерживают операции сложения $+$ и умножения на число $*$\n",
    "- В контексте строк операция сложения двух строк называется конкантенацией \n",
    "- Умножение на число $n$ - это конкатенация строки самой с собой $n$ раз.\n",
    "\n",
    "- Строки обособляются кавычками. Для обособления можно использовать любой из вариантов, представленных ниже.\n",
    "\n",
    "- Экранированные последовательности начинаются с символа \\\\ Три самые популярные экранированные последовательности:\n",
    "\n",
    "    - ```\\n``` - разрыв строки\n",
    "\n",
    "    - ```\\t``` - табуляция\n",
    "\n",
    "    - ```\\\\\\``` - вставка символа ```\\```\n",
    "\n",
    "Остальные легко найти в документации, их довольно много."
   ]
  },
  {
   "cell_type": "code",
   "execution_count": 3,
   "metadata": {
    "collapsed": false,
    "slideshow": {
     "slide_type": "slide"
    }
   },
   "outputs": [
    {
     "name": "stdout",
     "output_type": "stream",
     "text": [
      "\tHELLO, \n",
      "\tWORLD!\n"
     ]
    }
   ],
   "source": [
    "foo = \"\\tHE\" + 'L' * 2 + '''O, ''' + \"\"\"\\n\\tWORLD!\"\"\"\n",
    "print foo "
   ]
  },
  {
   "cell_type": "code",
   "execution_count": 1,
   "metadata": {
    "collapsed": false,
    "slideshow": {
     "slide_type": "slide"
    }
   },
   "outputs": [
    {
     "name": "stdout",
     "output_type": "stream",
     "text": [
      "Hello, John\n",
      "Hello, John\n"
     ]
    }
   ],
   "source": [
    "greeting = 'Hello'\n",
    "guest = \"John\"\n",
    "my_string = 'Hello \"John\"'\n",
    "named_greeting = 'Hello, {name}'.format(name=guest)\n",
    "\n",
    "named_greeting2 = '{}, {}'.format(greeting, guest)\n",
    "\n",
    "print named_greeting\n",
    "print named_greeting2"
   ]
  },
  {
   "cell_type": "markdown",
   "metadata": {
    "slideshow": {
     "slide_type": "slide"
    }
   },
   "source": [
    "### Контейнеры\n",
    "\n",
    "* список (list)\n",
    "* кортеж (tuple)\n",
    "* множество (set)\n",
    "* словарь (dictionary)\n",
    "\n",
    "Все детали в документации: https://docs.python.org/2/tutorial/datastructures.html"
   ]
  },
  {
   "cell_type": "markdown",
   "metadata": {
    "slideshow": {
     "slide_type": "slide"
    }
   },
   "source": [
    "#### Список"
   ]
  },
  {
   "cell_type": "code",
   "execution_count": 2,
   "metadata": {
    "collapsed": false,
    "slideshow": {
     "slide_type": "slide"
    }
   },
   "outputs": [
    {
     "name": "stdout",
     "output_type": "stream",
     "text": [
      "[5, 6, 5, 5, 7, 9]\n"
     ]
    }
   ],
   "source": [
    "fruit_list = ['apple', 'orange', 'peach', 'mango', 'bananas', 'pineapple']\n",
    "\n",
    "name_length = [len(fruit) for fruit in fruit_list]\n",
    "print name_length"
   ]
  },
  {
   "cell_type": "code",
   "execution_count": 3,
   "metadata": {
    "collapsed": true,
    "slideshow": {
     "slide_type": "slide"
    }
   },
   "outputs": [],
   "source": [
    "# Even better: fruit.startswith('p')\n",
    "name_with_p = [fruit for fruit in fruit_list if fruit[0]=='p']"
   ]
  },
  {
   "cell_type": "code",
   "execution_count": 4,
   "metadata": {
    "collapsed": false,
    "slideshow": {
     "slide_type": "slide"
    }
   },
   "outputs": [
    {
     "data": {
      "text/plain": [
       "['0.apple', '1.orange', '2.peach', '3.mango', '4.bananas', '5.pineapple']"
      ]
     },
     "execution_count": 4,
     "metadata": {},
     "output_type": "execute_result"
    }
   ],
   "source": [
    "numbered_fruits = []\n",
    "\n",
    "for i, fruit in enumerate(fruit_list):\n",
    "    numbered_fruits.append('{}.{}'.format(i, fruit))\n",
    "    \n",
    "numbered_fruits"
   ]
  },
  {
   "cell_type": "markdown",
   "metadata": {
    "slideshow": {
     "slide_type": "slide"
    }
   },
   "source": [
    "- Индексация начинается с 0\n",
    "- Общее правило индексирования:\n",
    "```python\n",
    "l[start:stop:step]\n",
    "```"
   ]
  },
  {
   "cell_type": "code",
   "execution_count": 5,
   "metadata": {
    "collapsed": false,
    "slideshow": {
     "slide_type": "slide"
    }
   },
   "outputs": [],
   "source": [
    "numbered_fruits[0] = None"
   ]
  },
  {
   "cell_type": "code",
   "execution_count": 6,
   "metadata": {
    "collapsed": false,
    "slideshow": {
     "slide_type": "slide"
    }
   },
   "outputs": [
    {
     "data": {
      "text/plain": [
       "['1.orange', '2.peach', '3.mango']"
      ]
     },
     "execution_count": 6,
     "metadata": {},
     "output_type": "execute_result"
    }
   ],
   "source": [
    "numbered_fruits[1:4]"
   ]
  },
  {
   "cell_type": "code",
   "execution_count": 7,
   "metadata": {
    "collapsed": false,
    "slideshow": {
     "slide_type": "slide"
    }
   },
   "outputs": [
    {
     "data": {
      "text/plain": [
       "['1.orange', '3.mango']"
      ]
     },
     "execution_count": 7,
     "metadata": {},
     "output_type": "execute_result"
    }
   ],
   "source": [
    "numbered_fruits[1:-1:2]"
   ]
  },
  {
   "cell_type": "code",
   "execution_count": 8,
   "metadata": {
    "collapsed": false,
    "slideshow": {
     "slide_type": "slide"
    }
   },
   "outputs": [
    {
     "data": {
      "text/plain": [
       "['5.pineapple', '4.bananas', '3.mango', '2.peach', '1.orange', None]"
      ]
     },
     "execution_count": 8,
     "metadata": {},
     "output_type": "execute_result"
    }
   ],
   "source": [
    "numbered_fruits[::-1]"
   ]
  },
  {
   "cell_type": "markdown",
   "metadata": {
    "slideshow": {
     "slide_type": "slide"
    }
   },
   "source": [
    "### Кортеж - неизменяемый тип!"
   ]
  },
  {
   "cell_type": "code",
   "execution_count": 9,
   "metadata": {
    "collapsed": false,
    "slideshow": {
     "slide_type": "slide"
    }
   },
   "outputs": [
    {
     "ename": "TypeError",
     "evalue": "'tuple' object does not support item assignment",
     "output_type": "error",
     "traceback": [
      "\u001b[0;31m---------------------------------------------------------------------------\u001b[0m",
      "\u001b[0;31mTypeError\u001b[0m                                 Traceback (most recent call last)",
      "\u001b[0;32m<ipython-input-9-a967184828ef>\u001b[0m in \u001b[0;36m<module>\u001b[0;34m()\u001b[0m\n\u001b[1;32m      1\u001b[0m \u001b[0mp_fruits\u001b[0m \u001b[0;34m=\u001b[0m \u001b[0;34m(\u001b[0m\u001b[0mname_with_p\u001b[0m\u001b[0;34m[\u001b[0m\u001b[0;36m1\u001b[0m\u001b[0;34m]\u001b[0m\u001b[0;34m,\u001b[0m \u001b[0mname_with_p\u001b[0m\u001b[0;34m[\u001b[0m\u001b[0;36m0\u001b[0m\u001b[0;34m]\u001b[0m\u001b[0;34m)\u001b[0m\u001b[0;34m\u001b[0m\u001b[0m\n\u001b[0;32m----> 2\u001b[0;31m \u001b[0mp_fruits\u001b[0m\u001b[0;34m[\u001b[0m\u001b[0;36m1\u001b[0m\u001b[0;34m]\u001b[0m \u001b[0;34m=\u001b[0m \u001b[0;34m'mango'\u001b[0m\u001b[0;34m\u001b[0m\u001b[0m\n\u001b[0m",
      "\u001b[0;31mTypeError\u001b[0m: 'tuple' object does not support item assignment"
     ]
    }
   ],
   "source": [
    "p_fruits = (name_with_p[1], name_with_p[0])\n",
    "p_fruits[1] = 'mango'"
   ]
  },
  {
   "cell_type": "code",
   "execution_count": 2,
   "metadata": {
    "collapsed": false,
    "slideshow": {
     "slide_type": "slide"
    }
   },
   "outputs": [
    {
     "name": "stdout",
     "output_type": "stream",
     "text": [
      "(3, 12)\n",
      "(3, 12)\n"
     ]
    }
   ],
   "source": [
    "double_number_tuple = 3, 12,\n",
    "print double_number_tuple\n",
    "double_number_tuple = (3, 12)\n",
    "print double_number_tuple"
   ]
  },
  {
   "cell_type": "code",
   "execution_count": 11,
   "metadata": {
    "collapsed": false,
    "slideshow": {
     "slide_type": "slide"
    }
   },
   "outputs": [
    {
     "data": {
      "text/plain": [
       "(3, 2, 1, 0)"
      ]
     },
     "execution_count": 11,
     "metadata": {},
     "output_type": "execute_result"
    }
   ],
   "source": [
    "single_number_tuple + (2,) + (1, 0)"
   ]
  },
  {
   "cell_type": "markdown",
   "metadata": {
    "slideshow": {
     "slide_type": "slide"
    }
   },
   "source": [
    "#### Отличие от списков\n",
    "\n",
    "- Неизменяемый тип\n",
    "- Меньше места в памяти\n",
    "- Иногда можно использовать только неизменяемый тип - ключи словаря"
   ]
  },
  {
   "cell_type": "code",
   "execution_count": 8,
   "metadata": {
    "collapsed": false,
    "slideshow": {
     "slide_type": "slide"
    }
   },
   "outputs": [
    {
     "name": "stdout",
     "output_type": "stream",
     "text": [
      "Размер кортежа:  40 байт(а) \n",
      "Размер списка:  80 байт(а)\n"
     ]
    }
   ],
   "source": [
    "tuple_size = double_number_tuple.__sizeof__()\n",
    "list_size = list(double_number_tuple).__sizeof__()\n",
    "\n",
    "print 'Размер кортежа: ', tuple_size, 'байт(а)', '\\nРазмер списка: ', list_size, 'байт(а)'"
   ]
  },
  {
   "cell_type": "markdown",
   "metadata": {
    "slideshow": {
     "slide_type": "slide"
    }
   },
   "source": [
    "### Множество - неизменяемый тип, хранит только уникальные элементы"
   ]
  },
  {
   "cell_type": "code",
   "execution_count": 12,
   "metadata": {
    "collapsed": false,
    "slideshow": {
     "slide_type": "slide"
    }
   },
   "outputs": [
    {
     "data": {
      "text/plain": [
       "{0, 1, 2, 3}"
      ]
     },
     "execution_count": 12,
     "metadata": {},
     "output_type": "execute_result"
    }
   ],
   "source": [
    "set([0, 1, 2, 1, 1, 1, 3])"
   ]
  },
  {
   "cell_type": "markdown",
   "metadata": {
    "slideshow": {
     "slide_type": "slide"
    }
   },
   "source": [
    "### Словарь"
   ]
  },
  {
   "cell_type": "markdown",
   "metadata": {},
   "source": [
    "- Иногда поиск по индексу неудобен \n",
    "- Аналогия с библиотечными каталогами с названиями книг\n",
    "- Элемент словаря - это пара (ключ, значение)\n",
    "- Ключи должны быть неизменяемыми объектами (строки, кортежи). Представьте, что вы пришли в библиотеку, но пока вы шли, название искомой книги изменилось - это будет печально.\n",
    "- Каждый ключ связан со значением. В роли значения может быть любая структура, в том числе список, другой словарь и т.д."
   ]
  },
  {
   "cell_type": "code",
   "execution_count": 10,
   "metadata": {
    "collapsed": false,
    "slideshow": {
     "slide_type": "slide"
    }
   },
   "outputs": [
    {
     "data": {
      "text/plain": [
       "{'apple': 3, 'banana': 3, 'mango': 2, 'orange': 5, 'pineapple': 4}"
      ]
     },
     "execution_count": 10,
     "metadata": {},
     "output_type": "execute_result"
    }
   ],
   "source": [
    "fruit_list = ['apple', 'orange', 'mango', 'banana', 'pineapple']\n",
    "quantities = [3, 5, 2, 3, 4]\n",
    "\n",
    "order_fruits = {fruit: num \\\n",
    "                for fruit, num in zip(fruit_list, quantities)}\n",
    "order_fruits"
   ]
  },
  {
   "cell_type": "code",
   "execution_count": 11,
   "metadata": {
    "collapsed": false,
    "slideshow": {
     "slide_type": "slide"
    }
   },
   "outputs": [
    {
     "data": {
      "text/plain": [
       "{'apple': 3, 'banana': 3, 'mango': 2, 'orange': 5, 'pineapple': 2}"
      ]
     },
     "execution_count": 11,
     "metadata": {},
     "output_type": "execute_result"
    }
   ],
   "source": [
    "order_fruits['pineapple'] = 2\n",
    "order_fruits"
   ]
  },
  {
   "cell_type": "code",
   "execution_count": 13,
   "metadata": {
    "collapsed": false,
    "slideshow": {
     "slide_type": "slide"
    }
   },
   "outputs": [
    {
     "name": "stdout",
     "output_type": "stream",
     "text": [
      "['orange', 'mango', 'pineapple', 'apple', 'banana']\n",
      "[5, 2, 2, 3, 3]\n",
      "[('orange', 5), ('mango', 2), ('pineapple', 2), ('apple', 3), ('banana', 3)]\n"
     ]
    }
   ],
   "source": [
    "print order_fruits.keys()\n",
    "print order_fruits.values()\n",
    "print order_fruits.items()"
   ]
  },
  {
   "cell_type": "code",
   "execution_count": 14,
   "metadata": {
    "collapsed": false,
    "slideshow": {
     "slide_type": "slide"
    }
   },
   "outputs": [
    {
     "name": "stdout",
     "output_type": "stream",
     "text": [
      "Buy 5 oranges\n",
      "Buy 2 mangos\n",
      "Buy 2 pineapples\n",
      "Buy 3 apples\n",
      "Buy 3 bananas\n"
     ]
    }
   ],
   "source": [
    "for fruit, amount in order_fruits.iteritems():\n",
    "    print 'Buy {num} {entity}s'.format(num=amount, entity=fruit)"
   ]
  },
  {
   "cell_type": "markdown",
   "metadata": {
    "slideshow": {
     "slide_type": "slide"
    }
   },
   "source": [
    "## Функции\n",
    "\n",
    "- Участки кода, которые многократно используются принято оборачивать в функции\n",
    "- Функции - это такие же объекты, как переменные, контейнеры, классы и прочее в языке"
   ]
  },
  {
   "cell_type": "markdown",
   "metadata": {
    "slideshow": {
     "slide_type": "slide"
    }
   },
   "source": [
    "### Общий шаблон"
   ]
  },
  {
   "cell_type": "code",
   "execution_count": 17,
   "metadata": {
    "collapsed": false,
    "slideshow": {
     "slide_type": "slide"
    }
   },
   "outputs": [],
   "source": [
    "def my_func(var1, var2, default_var1=0, default_var2 = False, *args, **kwargs):\n",
    "    \"\"\"\n",
    "    This is a generic example of python a function.\n",
    "    You can see this string when do call: my_func?\n",
    "    \"\"\"\n",
    "    #do something with vars\n",
    "    if not default_var2:\n",
    "        result = var1\n",
    "    elif default_var1 == 0:\n",
    "        result = var1\n",
    "    else:\n",
    "        result = var1 + var2\n",
    "    return result"
   ]
  },
  {
   "cell_type": "code",
   "execution_count": 18,
   "metadata": {
    "collapsed": false,
    "slideshow": {
     "slide_type": "slide"
    }
   },
   "outputs": [
    {
     "name": "stdout",
     "output_type": "stream",
     "text": [
      "Function my_func has the following docstring:\n",
      "\n",
      "    This is a generic example of python a function.\n",
      "    You can see this string when do call: my_func?\n",
      "    \n"
     ]
    }
   ],
   "source": [
    "print 'Function {} has the following docstring:\\n{}'\\\n",
    "        .format(my_func.func_name, my_func.func_doc)"
   ]
  },
  {
   "cell_type": "markdown",
   "metadata": {
    "slideshow": {
     "slide_type": "slide"
    }
   },
   "source": [
    "#### Как правильно писать документацию?\n",
    "\n",
    "https://github.com/numpy/numpy/blob/master/doc/HOWTO_DOCUMENT.rst.txt#docstring-standard"
   ]
  },
  {
   "cell_type": "markdown",
   "metadata": {
    "slideshow": {
     "slide_type": "slide"
    }
   },
   "source": [
    "### Функция может быть аргументом"
   ]
  },
  {
   "cell_type": "code",
   "execution_count": 19,
   "metadata": {
    "collapsed": true,
    "slideshow": {
     "slide_type": "slide"
    }
   },
   "outputs": [],
   "source": [
    "def function_over_function(func, *args, **kwargs):\n",
    "    function_result = func(*args, **kwargs)\n",
    "    return function_result"
   ]
  },
  {
   "cell_type": "code",
   "execution_count": 20,
   "metadata": {
    "collapsed": false,
    "slideshow": {
     "slide_type": "slide"
    }
   },
   "outputs": [
    {
     "data": {
      "text/plain": [
       "8"
      ]
     },
     "execution_count": 20,
     "metadata": {},
     "output_type": "execute_result"
    }
   ],
   "source": [
    "function_over_function(my_func, 3, 5, default_var1=1, default_var2=True)"
   ]
  },
  {
   "cell_type": "markdown",
   "metadata": {
    "slideshow": {
     "slide_type": "slide"
    }
   },
   "source": [
    "### Анонимные или лямбда-функции"
   ]
  },
  {
   "cell_type": "code",
   "execution_count": 21,
   "metadata": {
    "collapsed": false,
    "slideshow": {
     "slide_type": "slide"
    }
   },
   "outputs": [
    {
     "data": {
      "text/plain": [
       "15"
      ]
     },
     "execution_count": 21,
     "metadata": {},
     "output_type": "execute_result"
    }
   ],
   "source": [
    "function_over_function(lambda x, y, factor=10: (x+y)*factor, 1, 2, 5)"
   ]
  },
  {
   "cell_type": "markdown",
   "metadata": {
    "slideshow": {
     "slide_type": "slide"
    }
   },
   "source": [
    "НЕ присваивайте анонимные функции переменным! Используйте \"именные\" функции!\n",
    "\n",
    "```python\n",
    "my_simple_func = lambda x: x+1\n",
    "```\n",
    "vs\n",
    "```python\n",
    "def my_simple_func(x):\n",
    "    return x + 1\n",
    "```"
   ]
  },
  {
   "cell_type": "markdown",
   "metadata": {
    "slideshow": {
     "slide_type": "slide"
    }
   },
   "source": [
    "## Заключение\n",
    "\n",
    "- Python - интерпретируемый язык для быстрой разработки\n",
    "- Python имеет богатую стандартную библиотеку модулей и контейнеров\n",
    "- Python поддерживает различные парадигмы программирования: императивная, процедурная, объектно-ориентированная, функциональная и тд.\n",
    "- Python используется в различных приложениях от научных вычислений до Web-разработки"
   ]
  }
 ],
 "metadata": {
  "anaconda-cloud": {},
  "celltoolbar": "Slideshow",
  "kernelspec": {
   "display_name": "Python [default]",
   "language": "python",
   "name": "python2"
  },
  "language_info": {
   "codemirror_mode": {
    "name": "ipython",
    "version": 2
   },
   "file_extension": ".py",
   "mimetype": "text/x-python",
   "name": "python",
   "nbconvert_exporter": "python",
   "pygments_lexer": "ipython2",
   "version": "2.7.13"
  }
 },
 "nbformat": 4,
 "nbformat_minor": 0
}
